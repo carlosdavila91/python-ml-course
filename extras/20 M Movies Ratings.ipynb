{
 "cells": [
  {
   "cell_type": "markdown",
   "metadata": {},
   "source": [
    "# 20 M Movies Ratings"
   ]
  },
  {
   "cell_type": "code",
   "execution_count": 1,
   "metadata": {},
   "outputs": [],
   "source": [
    "import pandas as pd\n",
    "import numpy as np\n",
    "import matplotlib.pyplot as plt\n",
    "from sklearn.model_selection import train_test_split\n",
    "from sklearn.metrics import mean_squared_error\n",
    "from sklearn.neighbors import NearestNeighbors"
   ]
  },
  {
   "cell_type": "markdown",
   "metadata": {},
   "source": [
    "### Carga de Datasets"
   ]
  },
  {
   "cell_type": "code",
   "execution_count": 2,
   "metadata": {
    "scrolled": true
   },
   "outputs": [
    {
     "data": {
      "text/html": [
       "<div>\n",
       "<style scoped>\n",
       "    .dataframe tbody tr th:only-of-type {\n",
       "        vertical-align: middle;\n",
       "    }\n",
       "\n",
       "    .dataframe tbody tr th {\n",
       "        vertical-align: top;\n",
       "    }\n",
       "\n",
       "    .dataframe thead th {\n",
       "        text-align: right;\n",
       "    }\n",
       "</style>\n",
       "<table border=\"1\" class=\"dataframe\">\n",
       "  <thead>\n",
       "    <tr style=\"text-align: right;\">\n",
       "      <th></th>\n",
       "      <th>movieId</th>\n",
       "      <th>title</th>\n",
       "      <th>genres</th>\n",
       "    </tr>\n",
       "  </thead>\n",
       "  <tbody>\n",
       "    <tr>\n",
       "      <th>0</th>\n",
       "      <td>1</td>\n",
       "      <td>Toy Story (1995)</td>\n",
       "      <td>Adventure|Animation|Children|Comedy|Fantasy</td>\n",
       "    </tr>\n",
       "    <tr>\n",
       "      <th>1</th>\n",
       "      <td>2</td>\n",
       "      <td>Jumanji (1995)</td>\n",
       "      <td>Adventure|Children|Fantasy</td>\n",
       "    </tr>\n",
       "    <tr>\n",
       "      <th>2</th>\n",
       "      <td>3</td>\n",
       "      <td>Grumpier Old Men (1995)</td>\n",
       "      <td>Comedy|Romance</td>\n",
       "    </tr>\n",
       "  </tbody>\n",
       "</table>\n",
       "</div>"
      ],
      "text/plain": [
       "   movieId                    title  \\\n",
       "0        1         Toy Story (1995)   \n",
       "1        2           Jumanji (1995)   \n",
       "2        3  Grumpier Old Men (1995)   \n",
       "\n",
       "                                        genres  \n",
       "0  Adventure|Animation|Children|Comedy|Fantasy  \n",
       "1                   Adventure|Children|Fantasy  \n",
       "2                               Comedy|Romance  "
      ]
     },
     "execution_count": 2,
     "metadata": {},
     "output_type": "execute_result"
    }
   ],
   "source": [
    "df_movies = pd.read_csv(\"../datasets/Movies 20M/ml-20m/movies.csv\")\n",
    "df_movies.head(3)"
   ]
  },
  {
   "cell_type": "code",
   "execution_count": 3,
   "metadata": {},
   "outputs": [
    {
     "data": {
      "text/plain": [
       "(27278, 3)"
      ]
     },
     "execution_count": 3,
     "metadata": {},
     "output_type": "execute_result"
    }
   ],
   "source": [
    "df_movies.shape"
   ]
  },
  {
   "cell_type": "code",
   "execution_count": 4,
   "metadata": {},
   "outputs": [
    {
     "data": {
      "text/html": [
       "<div>\n",
       "<style scoped>\n",
       "    .dataframe tbody tr th:only-of-type {\n",
       "        vertical-align: middle;\n",
       "    }\n",
       "\n",
       "    .dataframe tbody tr th {\n",
       "        vertical-align: top;\n",
       "    }\n",
       "\n",
       "    .dataframe thead th {\n",
       "        text-align: right;\n",
       "    }\n",
       "</style>\n",
       "<table border=\"1\" class=\"dataframe\">\n",
       "  <thead>\n",
       "    <tr style=\"text-align: right;\">\n",
       "      <th></th>\n",
       "      <th>movieId</th>\n",
       "      <th>tagId</th>\n",
       "      <th>relevance</th>\n",
       "    </tr>\n",
       "  </thead>\n",
       "  <tbody>\n",
       "    <tr>\n",
       "      <th>0</th>\n",
       "      <td>1</td>\n",
       "      <td>1</td>\n",
       "      <td>0.02500</td>\n",
       "    </tr>\n",
       "    <tr>\n",
       "      <th>1</th>\n",
       "      <td>1</td>\n",
       "      <td>2</td>\n",
       "      <td>0.02500</td>\n",
       "    </tr>\n",
       "    <tr>\n",
       "      <th>2</th>\n",
       "      <td>1</td>\n",
       "      <td>3</td>\n",
       "      <td>0.05775</td>\n",
       "    </tr>\n",
       "  </tbody>\n",
       "</table>\n",
       "</div>"
      ],
      "text/plain": [
       "   movieId  tagId  relevance\n",
       "0        1      1    0.02500\n",
       "1        1      2    0.02500\n",
       "2        1      3    0.05775"
      ]
     },
     "execution_count": 4,
     "metadata": {},
     "output_type": "execute_result"
    }
   ],
   "source": [
    "df_gscores = pd.read_csv(\"../datasets/Movies 20M/ml-20m/genome-scores.csv\", sep=\",\")\n",
    "df_gscores.head(3)"
   ]
  },
  {
   "cell_type": "code",
   "execution_count": 5,
   "metadata": {},
   "outputs": [
    {
     "data": {
      "text/plain": [
       "(11709768, 3)"
      ]
     },
     "execution_count": 5,
     "metadata": {},
     "output_type": "execute_result"
    }
   ],
   "source": [
    "df_gscores.shape"
   ]
  },
  {
   "cell_type": "code",
   "execution_count": 6,
   "metadata": {},
   "outputs": [
    {
     "data": {
      "text/html": [
       "<div>\n",
       "<style scoped>\n",
       "    .dataframe tbody tr th:only-of-type {\n",
       "        vertical-align: middle;\n",
       "    }\n",
       "\n",
       "    .dataframe tbody tr th {\n",
       "        vertical-align: top;\n",
       "    }\n",
       "\n",
       "    .dataframe thead th {\n",
       "        text-align: right;\n",
       "    }\n",
       "</style>\n",
       "<table border=\"1\" class=\"dataframe\">\n",
       "  <thead>\n",
       "    <tr style=\"text-align: right;\">\n",
       "      <th></th>\n",
       "      <th>tagId</th>\n",
       "      <th>tag</th>\n",
       "    </tr>\n",
       "  </thead>\n",
       "  <tbody>\n",
       "    <tr>\n",
       "      <th>0</th>\n",
       "      <td>1</td>\n",
       "      <td>007</td>\n",
       "    </tr>\n",
       "    <tr>\n",
       "      <th>1</th>\n",
       "      <td>2</td>\n",
       "      <td>007 (series)</td>\n",
       "    </tr>\n",
       "    <tr>\n",
       "      <th>2</th>\n",
       "      <td>3</td>\n",
       "      <td>18th century</td>\n",
       "    </tr>\n",
       "  </tbody>\n",
       "</table>\n",
       "</div>"
      ],
      "text/plain": [
       "   tagId           tag\n",
       "0      1           007\n",
       "1      2  007 (series)\n",
       "2      3  18th century"
      ]
     },
     "execution_count": 6,
     "metadata": {},
     "output_type": "execute_result"
    }
   ],
   "source": [
    "df_gtags = pd.read_csv(\"../datasets/Movies 20M/ml-20m/genome-tags.csv\", sep=\",\")\n",
    "df_gtags.head(3)"
   ]
  },
  {
   "cell_type": "code",
   "execution_count": 7,
   "metadata": {},
   "outputs": [
    {
     "data": {
      "text/plain": [
       "(1128, 2)"
      ]
     },
     "execution_count": 7,
     "metadata": {},
     "output_type": "execute_result"
    }
   ],
   "source": [
    "df_gtags.shape"
   ]
  },
  {
   "cell_type": "code",
   "execution_count": 8,
   "metadata": {},
   "outputs": [
    {
     "data": {
      "text/html": [
       "<div>\n",
       "<style scoped>\n",
       "    .dataframe tbody tr th:only-of-type {\n",
       "        vertical-align: middle;\n",
       "    }\n",
       "\n",
       "    .dataframe tbody tr th {\n",
       "        vertical-align: top;\n",
       "    }\n",
       "\n",
       "    .dataframe thead th {\n",
       "        text-align: right;\n",
       "    }\n",
       "</style>\n",
       "<table border=\"1\" class=\"dataframe\">\n",
       "  <thead>\n",
       "    <tr style=\"text-align: right;\">\n",
       "      <th></th>\n",
       "      <th>userId</th>\n",
       "      <th>movieId</th>\n",
       "      <th>rating</th>\n",
       "      <th>timestamp</th>\n",
       "    </tr>\n",
       "  </thead>\n",
       "  <tbody>\n",
       "    <tr>\n",
       "      <th>0</th>\n",
       "      <td>1</td>\n",
       "      <td>2</td>\n",
       "      <td>3.5</td>\n",
       "      <td>1112486027</td>\n",
       "    </tr>\n",
       "    <tr>\n",
       "      <th>1</th>\n",
       "      <td>1</td>\n",
       "      <td>29</td>\n",
       "      <td>3.5</td>\n",
       "      <td>1112484676</td>\n",
       "    </tr>\n",
       "    <tr>\n",
       "      <th>2</th>\n",
       "      <td>1</td>\n",
       "      <td>32</td>\n",
       "      <td>3.5</td>\n",
       "      <td>1112484819</td>\n",
       "    </tr>\n",
       "  </tbody>\n",
       "</table>\n",
       "</div>"
      ],
      "text/plain": [
       "   userId  movieId  rating   timestamp\n",
       "0       1        2     3.5  1112486027\n",
       "1       1       29     3.5  1112484676\n",
       "2       1       32     3.5  1112484819"
      ]
     },
     "execution_count": 8,
     "metadata": {},
     "output_type": "execute_result"
    }
   ],
   "source": [
    "df_ratings = pd.read_csv(\"../datasets/Movies 20M/ml-20m/ratings.csv\", sep=\",\")\n",
    "df_ratings.head(3)"
   ]
  },
  {
   "cell_type": "code",
   "execution_count": 9,
   "metadata": {},
   "outputs": [
    {
     "data": {
      "text/plain": [
       "(20000263, 4)"
      ]
     },
     "execution_count": 9,
     "metadata": {},
     "output_type": "execute_result"
    }
   ],
   "source": [
    "df_ratings.shape"
   ]
  },
  {
   "cell_type": "markdown",
   "metadata": {},
   "source": [
    "### Revisión inicial de información"
   ]
  },
  {
   "cell_type": "code",
   "execution_count": 10,
   "metadata": {
    "scrolled": false
   },
   "outputs": [
    {
     "data": {
      "text/plain": [
       "array(['Adventure|Animation|Children|Comedy|Fantasy',\n",
       "       'Adventure|Children|Fantasy', 'Comedy|Romance', ...,\n",
       "       'Action|Adventure|Animation|Fantasy|Horror',\n",
       "       'Animation|Children|Comedy|Fantasy|Sci-Fi',\n",
       "       'Animation|Children|Comedy|Western'], dtype=object)"
      ]
     },
     "execution_count": 10,
     "metadata": {},
     "output_type": "execute_result"
    }
   ],
   "source": [
    "df_movies[\"genres\"].unique()"
   ]
  },
  {
   "cell_type": "code",
   "execution_count": 11,
   "metadata": {
    "scrolled": true
   },
   "outputs": [
    {
     "data": {
      "text/plain": [
       "(array(['Adventure|Animation|Children|Comedy|Fantasy',\n",
       "        'Adventure|Children|Fantasy', 'Comedy|Romance', ...,\n",
       "        'Action|Adventure|Animation|Fantasy|Horror',\n",
       "        'Animation|Children|Comedy|Fantasy|Sci-Fi',\n",
       "        'Animation|Children|Comedy|Western'], dtype=object), 1342)"
      ]
     },
     "execution_count": 11,
     "metadata": {},
     "output_type": "execute_result"
    }
   ],
   "source": [
    "genres = np.array(df_movies[\"genres\"].unique())\n",
    "genres, genres.size"
   ]
  },
  {
   "cell_type": "code",
   "execution_count": 12,
   "metadata": {},
   "outputs": [
    {
     "data": {
      "text/plain": [
       "array([list(['Adventure', 'Animation', 'Children', 'Comedy', 'Fantasy']),\n",
       "       list(['Adventure', 'Children', 'Fantasy']),\n",
       "       list(['Comedy', 'Romance']), ...,\n",
       "       list(['Action', 'Adventure', 'Animation', 'Fantasy', 'Horror']),\n",
       "       list(['Animation', 'Children', 'Comedy', 'Fantasy', 'Sci-Fi']),\n",
       "       list(['Animation', 'Children', 'Comedy', 'Western'])], dtype=object)"
      ]
     },
     "execution_count": 12,
     "metadata": {},
     "output_type": "execute_result"
    }
   ],
   "source": [
    "# Bucle para separar géneros de perliculas por el str \"|\"\n",
    "genres_temp = []\n",
    "\n",
    "for i in range(len(genres)):\n",
    "    tem=genres[i].split(\"|\")\n",
    "    genres_temp.append(tem)\n",
    "\n",
    "genres_temp = np.array(genres_temp)\n",
    "genres_temp"
   ]
  },
  {
   "cell_type": "code",
   "execution_count": 13,
   "metadata": {},
   "outputs": [
    {
     "data": {
      "text/plain": [
       "array(['Adventure', 'Animation', 'Children', 'Comedy', 'Fantasy'],\n",
       "      dtype='<U9')"
      ]
     },
     "execution_count": 13,
     "metadata": {},
     "output_type": "execute_result"
    }
   ],
   "source": [
    "# Bucle para convertir de \"list\" a \"array\" con los géneros ya separados\n",
    "genres_tem = []\n",
    "\n",
    "for i in range(len(genres_temp)):\n",
    "    values = np.array(genres_temp[i])\n",
    "    genres_tem.append(values)\n",
    "\n",
    "genres_tem[0]"
   ]
  },
  {
   "cell_type": "code",
   "execution_count": 14,
   "metadata": {
    "scrolled": true
   },
   "outputs": [
    {
     "data": {
      "text/plain": [
       "array(['Adventure', 'Animation', 'Action', 'Thriller', 'Sci-Fi', 'War'],\n",
       "      dtype=object)"
      ]
     },
     "execution_count": 14,
     "metadata": {},
     "output_type": "execute_result"
    }
   ],
   "source": [
    "# Bucle para listar los géneros separados y hacerlos unicos\n",
    "genres_unique = []\n",
    "\n",
    "for i in range(1341):\n",
    "    v1 = genres_tem[i]\n",
    "    #print(v1)\n",
    "    for j in range(v1.size):\n",
    "        v3 =v1[j].tolist()\n",
    "        #print(v3)\n",
    "        genres_unique.append(v3)\n",
    "\n",
    "genres_unique=pd.DataFrame(genres_unique)\n",
    "target_genres = genres_unique[0].unique()\n",
    "target_genres = target_genres[[0,1,7,9,12,15]]\n",
    "target_genres"
   ]
  },
  {
   "cell_type": "code",
   "execution_count": 15,
   "metadata": {
    "scrolled": true
   },
   "outputs": [],
   "source": [
    "All_genres = genres_unique[0].unique()\n",
    "All_genres = All_genres.tolist()"
   ]
  },
  {
   "cell_type": "code",
   "execution_count": 16,
   "metadata": {},
   "outputs": [],
   "source": [
    "# Crea las \"N\" columnas rellenandolas con ceros según los géneros de películas\n",
    "\n",
    "df_movies = pd.read_csv(\"../datasets/Movies 20M/ml-20m/movies.csv\")\n",
    "\n",
    "for i in range(0,len(All_genres)):\n",
    "    df_movies[All_genres[i]] = 0"
   ]
  },
  {
   "cell_type": "code",
   "execution_count": 17,
   "metadata": {},
   "outputs": [
    {
     "data": {
      "text/html": [
       "<div>\n",
       "<style scoped>\n",
       "    .dataframe tbody tr th:only-of-type {\n",
       "        vertical-align: middle;\n",
       "    }\n",
       "\n",
       "    .dataframe tbody tr th {\n",
       "        vertical-align: top;\n",
       "    }\n",
       "\n",
       "    .dataframe thead th {\n",
       "        text-align: right;\n",
       "    }\n",
       "</style>\n",
       "<table border=\"1\" class=\"dataframe\">\n",
       "  <thead>\n",
       "    <tr style=\"text-align: right;\">\n",
       "      <th></th>\n",
       "      <th>movieId</th>\n",
       "      <th>title</th>\n",
       "      <th>genres</th>\n",
       "      <th>Adventure</th>\n",
       "      <th>Animation</th>\n",
       "      <th>Children</th>\n",
       "      <th>Comedy</th>\n",
       "      <th>Fantasy</th>\n",
       "      <th>Romance</th>\n",
       "      <th>Drama</th>\n",
       "      <th>...</th>\n",
       "      <th>Horror</th>\n",
       "      <th>Mystery</th>\n",
       "      <th>Sci-Fi</th>\n",
       "      <th>IMAX</th>\n",
       "      <th>Documentary</th>\n",
       "      <th>War</th>\n",
       "      <th>Musical</th>\n",
       "      <th>Western</th>\n",
       "      <th>Film-Noir</th>\n",
       "      <th>(no genres listed)</th>\n",
       "    </tr>\n",
       "  </thead>\n",
       "  <tbody>\n",
       "    <tr>\n",
       "      <th>0</th>\n",
       "      <td>1</td>\n",
       "      <td>Toy Story (1995)</td>\n",
       "      <td>Adventure|Animation|Children|Comedy|Fantasy</td>\n",
       "      <td>0</td>\n",
       "      <td>0</td>\n",
       "      <td>0</td>\n",
       "      <td>0</td>\n",
       "      <td>0</td>\n",
       "      <td>0</td>\n",
       "      <td>0</td>\n",
       "      <td>...</td>\n",
       "      <td>0</td>\n",
       "      <td>0</td>\n",
       "      <td>0</td>\n",
       "      <td>0</td>\n",
       "      <td>0</td>\n",
       "      <td>0</td>\n",
       "      <td>0</td>\n",
       "      <td>0</td>\n",
       "      <td>0</td>\n",
       "      <td>0</td>\n",
       "    </tr>\n",
       "    <tr>\n",
       "      <th>1</th>\n",
       "      <td>2</td>\n",
       "      <td>Jumanji (1995)</td>\n",
       "      <td>Adventure|Children|Fantasy</td>\n",
       "      <td>0</td>\n",
       "      <td>0</td>\n",
       "      <td>0</td>\n",
       "      <td>0</td>\n",
       "      <td>0</td>\n",
       "      <td>0</td>\n",
       "      <td>0</td>\n",
       "      <td>...</td>\n",
       "      <td>0</td>\n",
       "      <td>0</td>\n",
       "      <td>0</td>\n",
       "      <td>0</td>\n",
       "      <td>0</td>\n",
       "      <td>0</td>\n",
       "      <td>0</td>\n",
       "      <td>0</td>\n",
       "      <td>0</td>\n",
       "      <td>0</td>\n",
       "    </tr>\n",
       "    <tr>\n",
       "      <th>2</th>\n",
       "      <td>3</td>\n",
       "      <td>Grumpier Old Men (1995)</td>\n",
       "      <td>Comedy|Romance</td>\n",
       "      <td>0</td>\n",
       "      <td>0</td>\n",
       "      <td>0</td>\n",
       "      <td>0</td>\n",
       "      <td>0</td>\n",
       "      <td>0</td>\n",
       "      <td>0</td>\n",
       "      <td>...</td>\n",
       "      <td>0</td>\n",
       "      <td>0</td>\n",
       "      <td>0</td>\n",
       "      <td>0</td>\n",
       "      <td>0</td>\n",
       "      <td>0</td>\n",
       "      <td>0</td>\n",
       "      <td>0</td>\n",
       "      <td>0</td>\n",
       "      <td>0</td>\n",
       "    </tr>\n",
       "  </tbody>\n",
       "</table>\n",
       "<p>3 rows × 23 columns</p>\n",
       "</div>"
      ],
      "text/plain": [
       "   movieId                    title  \\\n",
       "0        1         Toy Story (1995)   \n",
       "1        2           Jumanji (1995)   \n",
       "2        3  Grumpier Old Men (1995)   \n",
       "\n",
       "                                        genres  Adventure  Animation  \\\n",
       "0  Adventure|Animation|Children|Comedy|Fantasy          0          0   \n",
       "1                   Adventure|Children|Fantasy          0          0   \n",
       "2                               Comedy|Romance          0          0   \n",
       "\n",
       "   Children  Comedy  Fantasy  Romance  Drama  ...  Horror  Mystery  Sci-Fi  \\\n",
       "0         0       0        0        0      0  ...       0        0       0   \n",
       "1         0       0        0        0      0  ...       0        0       0   \n",
       "2         0       0        0        0      0  ...       0        0       0   \n",
       "\n",
       "   IMAX  Documentary  War  Musical  Western  Film-Noir  (no genres listed)  \n",
       "0     0            0    0        0        0          0                   0  \n",
       "1     0            0    0        0        0          0                   0  \n",
       "2     0            0    0        0        0          0                   0  \n",
       "\n",
       "[3 rows x 23 columns]"
      ]
     },
     "execution_count": 17,
     "metadata": {},
     "output_type": "execute_result"
    }
   ],
   "source": [
    "df_movies[:3]"
   ]
  },
  {
   "cell_type": "code",
   "execution_count": 18,
   "metadata": {},
   "outputs": [
    {
     "data": {
      "text/plain": [
       "27278"
      ]
     },
     "execution_count": 18,
     "metadata": {},
     "output_type": "execute_result"
    }
   ],
   "source": [
    "# separa por el caracter \"|\" los generos de cada celda de la columna \"genres\"\n",
    "temp=[]\n",
    "\n",
    "for i in range(int(df_movies.shape[0])):\n",
    "    v1=(np.array(df_movies[\"genres\"])[i]).split(\"|\")\n",
    "    temp.append(v1)\n",
    "\n",
    "temp=np.array(temp)\n",
    "temp.size"
   ]
  },
  {
   "cell_type": "code",
   "execution_count": 19,
   "metadata": {
    "scrolled": true
   },
   "outputs": [
    {
     "data": {
      "text/plain": [
       "array(['Adventure', 'Animation', 'Children', 'Comedy', 'Fantasy'],\n",
       "      dtype='<U9')"
      ]
     },
     "execution_count": 19,
     "metadata": {},
     "output_type": "execute_result"
    }
   ],
   "source": [
    "# Elimina el array de arrays dejando cada celda con su género correspondiente ya separado\n",
    "temp2 = []\n",
    "\n",
    "for i in range(len(temp)):\n",
    "    values = np.array(temp[i])\n",
    "    temp2.append(values)\n",
    "\n",
    "temp2[0]"
   ]
  },
  {
   "cell_type": "code",
   "execution_count": null,
   "metadata": {},
   "outputs": [],
   "source": [
    "serch_genres=['Adventure', 'Animation', 'Children', 'Comedy', 'Fantasy', 'Romance', 'Drama', 'Action', \n",
    "              'Crime', 'Thriller', 'Horror', 'Mystery', 'Sci-Fi', 'IMAX', 'Documentary', 'War', 'Musical', \n",
    "              'Western', 'Film-Noir', '(no genres listed)']"
   ]
  },
  {
   "cell_type": "code",
   "execution_count": null,
   "metadata": {},
   "outputs": [],
   "source": [
    "# Asigna valor \"1\" a cada categoría de peliculas en su correspondiente columna de género\n",
    "\n",
    "serch_genres=All_genres\n",
    "for i in range(0,len(df_movies[\"genres\"])):\n",
    "    #print(temp2[i])\n",
    "    for j in range(0,temp2[i].size):\n",
    "        for z in range(0,len(serch_genres)):\n",
    "            #print(serch_genres[z])\n",
    "            #print(temp2[i][j])\n",
    "            for c in range(0,len(df_movies.columns.values)):\n",
    "                if temp2[i][j]==serch_genres[z]==df_movies.columns.values[c]:\n",
    "                    df_movies[df_movies.columns.values[c]][i] = 1\n",
    "        "
   ]
  },
  {
   "cell_type": "code",
   "execution_count": 20,
   "metadata": {
    "scrolled": false
   },
   "outputs": [],
   "source": [
    "# Guarda en un nuevo archivo las variables dummy generadas para cada género\n",
    "df_movies.to_csv(\"../datasets/Movies 20M/ml-20m/movies_genres.csv\")"
   ]
  },
  {
   "cell_type": "markdown",
   "metadata": {},
   "source": [
    "#### Revisión de archivo con variables dummy por género ya generadas"
   ]
  },
  {
   "cell_type": "code",
   "execution_count": 21,
   "metadata": {
    "scrolled": false
   },
   "outputs": [
    {
     "data": {
      "text/html": [
       "<div>\n",
       "<style scoped>\n",
       "    .dataframe tbody tr th:only-of-type {\n",
       "        vertical-align: middle;\n",
       "    }\n",
       "\n",
       "    .dataframe tbody tr th {\n",
       "        vertical-align: top;\n",
       "    }\n",
       "\n",
       "    .dataframe thead th {\n",
       "        text-align: right;\n",
       "    }\n",
       "</style>\n",
       "<table border=\"1\" class=\"dataframe\">\n",
       "  <thead>\n",
       "    <tr style=\"text-align: right;\">\n",
       "      <th></th>\n",
       "      <th>movieId</th>\n",
       "      <th>title</th>\n",
       "      <th>genres</th>\n",
       "      <th>Adventure</th>\n",
       "      <th>Animation</th>\n",
       "      <th>Children</th>\n",
       "      <th>Comedy</th>\n",
       "      <th>Fantasy</th>\n",
       "      <th>Romance</th>\n",
       "      <th>Drama</th>\n",
       "      <th>...</th>\n",
       "      <th>Horror</th>\n",
       "      <th>Mystery</th>\n",
       "      <th>Sci-Fi</th>\n",
       "      <th>IMAX</th>\n",
       "      <th>Documentary</th>\n",
       "      <th>War</th>\n",
       "      <th>Musical</th>\n",
       "      <th>Western</th>\n",
       "      <th>Film-Noir</th>\n",
       "      <th>(no genres listed)</th>\n",
       "    </tr>\n",
       "  </thead>\n",
       "  <tbody>\n",
       "    <tr>\n",
       "      <th>0</th>\n",
       "      <td>1</td>\n",
       "      <td>Toy Story (1995)</td>\n",
       "      <td>Adventure|Animation|Children|Comedy|Fantasy</td>\n",
       "      <td>1</td>\n",
       "      <td>1</td>\n",
       "      <td>1</td>\n",
       "      <td>1</td>\n",
       "      <td>1</td>\n",
       "      <td>0</td>\n",
       "      <td>0</td>\n",
       "      <td>...</td>\n",
       "      <td>0</td>\n",
       "      <td>0</td>\n",
       "      <td>0</td>\n",
       "      <td>0</td>\n",
       "      <td>0</td>\n",
       "      <td>0</td>\n",
       "      <td>0</td>\n",
       "      <td>0</td>\n",
       "      <td>0</td>\n",
       "      <td>0</td>\n",
       "    </tr>\n",
       "    <tr>\n",
       "      <th>1</th>\n",
       "      <td>2</td>\n",
       "      <td>Jumanji (1995)</td>\n",
       "      <td>Adventure|Children|Fantasy</td>\n",
       "      <td>1</td>\n",
       "      <td>0</td>\n",
       "      <td>1</td>\n",
       "      <td>0</td>\n",
       "      <td>1</td>\n",
       "      <td>0</td>\n",
       "      <td>0</td>\n",
       "      <td>...</td>\n",
       "      <td>0</td>\n",
       "      <td>0</td>\n",
       "      <td>0</td>\n",
       "      <td>0</td>\n",
       "      <td>0</td>\n",
       "      <td>0</td>\n",
       "      <td>0</td>\n",
       "      <td>0</td>\n",
       "      <td>0</td>\n",
       "      <td>0</td>\n",
       "    </tr>\n",
       "    <tr>\n",
       "      <th>2</th>\n",
       "      <td>3</td>\n",
       "      <td>Grumpier Old Men (1995)</td>\n",
       "      <td>Comedy|Romance</td>\n",
       "      <td>0</td>\n",
       "      <td>0</td>\n",
       "      <td>0</td>\n",
       "      <td>1</td>\n",
       "      <td>0</td>\n",
       "      <td>1</td>\n",
       "      <td>0</td>\n",
       "      <td>...</td>\n",
       "      <td>0</td>\n",
       "      <td>0</td>\n",
       "      <td>0</td>\n",
       "      <td>0</td>\n",
       "      <td>0</td>\n",
       "      <td>0</td>\n",
       "      <td>0</td>\n",
       "      <td>0</td>\n",
       "      <td>0</td>\n",
       "      <td>0</td>\n",
       "    </tr>\n",
       "  </tbody>\n",
       "</table>\n",
       "<p>3 rows × 23 columns</p>\n",
       "</div>"
      ],
      "text/plain": [
       "   movieId                    title  \\\n",
       "0        1         Toy Story (1995)   \n",
       "1        2           Jumanji (1995)   \n",
       "2        3  Grumpier Old Men (1995)   \n",
       "\n",
       "                                        genres  Adventure  Animation  \\\n",
       "0  Adventure|Animation|Children|Comedy|Fantasy          1          1   \n",
       "1                   Adventure|Children|Fantasy          1          0   \n",
       "2                               Comedy|Romance          0          0   \n",
       "\n",
       "   Children  Comedy  Fantasy  Romance  Drama  ...  Horror  Mystery  Sci-Fi  \\\n",
       "0         1       1        1        0      0  ...       0        0       0   \n",
       "1         1       0        1        0      0  ...       0        0       0   \n",
       "2         0       1        0        1      0  ...       0        0       0   \n",
       "\n",
       "   IMAX  Documentary  War  Musical  Western  Film-Noir  (no genres listed)  \n",
       "0     0            0    0        0        0          0                   0  \n",
       "1     0            0    0        0        0          0                   0  \n",
       "2     0            0    0        0        0          0                   0  \n",
       "\n",
       "[3 rows x 23 columns]"
      ]
     },
     "execution_count": 21,
     "metadata": {},
     "output_type": "execute_result"
    }
   ],
   "source": [
    "df_movies = pd.read_csv(\"../datasets/Movies 20M/ml-20m/movies_genres.csv\")\n",
    "df_movies = df_movies.drop([\"Unnamed: 0\"], axis = 1)\n",
    "df_movies.head(3)"
   ]
  },
  {
   "cell_type": "code",
   "execution_count": 22,
   "metadata": {
    "scrolled": false
   },
   "outputs": [
    {
     "data": {
      "image/png": "[encoded data removed]",
      "text/plain": [
       "<Figure size 432x288 with 1 Axes>"
      ]
     },
     "metadata": {
      "needs_background": "light"
     },
     "output_type": "display_data"
    }
   ],
   "source": [
    "# Revisión de peliculas con más valoraciónes\n",
    "plt.hist(df_ratings.groupby([\"movieId\"])[\"movieId\"].count())\n",
    "plt.show()"
   ]
  },
  {
   "cell_type": "code",
   "execution_count": 23,
   "metadata": {},
   "outputs": [
    {
     "data": {
      "image/png": "[encoded data removed]",
      "text/plain": [
       "<Figure size 1152x144 with 1 Axes>"
      ]
     },
     "metadata": {
      "needs_background": "light"
     },
     "output_type": "display_data"
    },
    {
     "name": "stdout",
     "output_type": "stream",
     "text": [
      "            movieId\n",
      "count  26744.000000\n",
      "mean     747.841123\n",
      "std     3085.818268\n",
      "min        1.000000\n",
      "25%        3.000000\n",
      "50%       18.000000\n",
      "75%      205.000000\n",
      "max    67310.000000\n"
     ]
    }
   ],
   "source": [
    "best_views=pd.DataFrame(df_ratings.groupby([\"movieId\"])[\"movieId\"].count())\n",
    "plt.figure(figsize=(16,2))\n",
    "plt.boxplot(best_views[\"movieId\"], vert=False)\n",
    "plt.show()\n",
    "print(best_views.describe())"
   ]
  },
  {
   "cell_type": "code",
   "execution_count": 24,
   "metadata": {
    "scrolled": true
   },
   "outputs": [
    {
     "data": {
      "image/png": "[encoded data removed]",
      "text/plain": [
       "<Figure size 432x288 with 1 Axes>"
      ]
     },
     "metadata": {
      "needs_background": "light"
     },
     "output_type": "display_data"
    },
    {
     "name": "stdout",
     "output_type": "stream",
     "text": [
      "(26744, 1) (3159, 1)\n"
     ]
    }
   ],
   "source": [
    "# Se define la cantidad de valoraciónes \"M\" como parametro para filtrar la base de datos\n",
    "M=1000\n",
    "\n",
    "top_best_views = best_views[(best_views[\"movieId\"]>M)]\n",
    "top_best_views.columns = [\"rank_movie_ID\"]\n",
    "plt.hist(top_best_views.groupby([\"rank_movie_ID\"])[\"rank_movie_ID\"].count())\n",
    "plt.show()\n",
    "print(best_views.shape, top_best_views.shape)"
   ]
  },
  {
   "cell_type": "code",
   "execution_count": 25,
   "metadata": {},
   "outputs": [
    {
     "data": {
      "image/png": "[encoded data removed]",
      "text/plain": [
       "<Figure size 432x288 with 1 Axes>"
      ]
     },
     "metadata": {
      "needs_background": "light"
     },
     "output_type": "display_data"
    }
   ],
   "source": [
    "# Revisión de usuarios con más valoraciónes\n",
    "plt.hist(df_ratings.groupby([\"userId\"])[\"userId\"].count())\n",
    "\n",
    "plt.show()"
   ]
  },
  {
   "cell_type": "code",
   "execution_count": 26,
   "metadata": {
    "scrolled": false
   },
   "outputs": [
    {
     "data": {
      "image/png": "[encoded data removed]",
      "text/plain": [
       "<Figure size 1152x144 with 1 Axes>"
      ]
     },
     "metadata": {
      "needs_background": "light"
     },
     "output_type": "display_data"
    },
    {
     "name": "stdout",
     "output_type": "stream",
     "text": [
      "              userId\n",
      "count  138493.000000\n",
      "mean      144.413530\n",
      "std       230.267257\n",
      "min        20.000000\n",
      "25%        35.000000\n",
      "50%        68.000000\n",
      "75%       155.000000\n",
      "max      9254.000000\n"
     ]
    }
   ],
   "source": [
    "best_users=pd.DataFrame(df_ratings.groupby([\"userId\"])[\"userId\"].count())\n",
    "plt.figure(figsize=(16,2))\n",
    "plt.boxplot(best_users[\"userId\"], vert=False)\n",
    "plt.show()\n",
    "print(best_users.describe())"
   ]
  },
  {
   "cell_type": "code",
   "execution_count": 27,
   "metadata": {
    "scrolled": true
   },
   "outputs": [
    {
     "data": {
      "image/png": "[encoded data removed]",
      "text/plain": [
       "<Figure size 432x288 with 1 Axes>"
      ]
     },
     "metadata": {
      "needs_background": "light"
     },
     "output_type": "display_data"
    },
    {
     "name": "stdout",
     "output_type": "stream",
     "text": [
      "(138493, 1) (35571, 1)\n"
     ]
    }
   ],
   "source": [
    "# Se define la cantidad de usuarios \"U\" como parametro para filtrar la base de datos\n",
    "U=150\n",
    "\n",
    "top_best_users = best_users[(best_users[\"userId\"]>U)]\n",
    "top_best_users.columns = [\"rank_user_ID\"]\n",
    "plt.hist(top_best_users.groupby([\"rank_user_ID\"])[\"rank_user_ID\"].count())\n",
    "plt.show()\n",
    "print(best_users.shape, top_best_users.shape)"
   ]
  },
  {
   "cell_type": "code",
   "execution_count": 28,
   "metadata": {
    "scrolled": true
   },
   "outputs": [
    {
     "data": {
      "text/plain": [
       "((20000263, 4), (13980569, 5))"
      ]
     },
     "execution_count": 28,
     "metadata": {},
     "output_type": "execute_result"
    }
   ],
   "source": [
    "# Reducimos nuestra base de datos \"df_ratings_top\" en función de la cantidad representativa de \"top_best_users\"\n",
    "\n",
    "df_ratings_top = pd.merge(left = df_ratings, right = top_best_users, how = \"inner\", \n",
    "                          right_on = \"userId\", left_on = \"userId\")\n",
    "df_ratings.shape, df_ratings_top.shape "
   ]
  },
  {
   "cell_type": "code",
   "execution_count": 29,
   "metadata": {},
   "outputs": [
    {
     "data": {
      "text/plain": [
       "((20000263, 4), (12054933, 6))"
      ]
     },
     "execution_count": 29,
     "metadata": {},
     "output_type": "execute_result"
    }
   ],
   "source": [
    "# Reducimos nuestra base de datos \"df_ratings_top\" en función de la cantidad representativa de \"top_best_views\"\n",
    "\n",
    "df_ratings_top = pd.merge(left = df_ratings_top, right = top_best_views, how = \"inner\", \n",
    "                          right_on = \"movieId\", left_on = \"movieId\")\n",
    "df_ratings.shape, df_ratings_top.shape "
   ]
  },
  {
   "cell_type": "code",
   "execution_count": 30,
   "metadata": {},
   "outputs": [
    {
     "name": "stdout",
     "output_type": "stream",
     "text": [
      "Con los filtros anteriores se redujo el N° de peliculas únicas desde 26744 a 3159 , es decir,  23585 menos\n",
      "\n",
      "\n",
      "Con los filtros anteriores se redujo el N° usuarios únicos desde 138493 a 35571 , es decir,  102922 menos\n"
     ]
    }
   ],
   "source": [
    "m0 = df_ratings.movieId.unique().shape[0]\n",
    "m1 = df_ratings_top.movieId.unique().shape[0]\n",
    "u0 = df_ratings.userId.unique().shape[0]\n",
    "u1 = df_ratings_top.userId.unique().shape[0]\n",
    "\n",
    "print(\"Con los filtros anteriores se redujo el N° de peliculas únicas desde\", m0,\"a\", \n",
    "      m1, \", es decir, \", m0-m1  , \"menos\")\n",
    "print(\"\\n\")\n",
    "print(\"Con los filtros anteriores se redujo el N° usuarios únicos desde\", u0,\"a\", \n",
    "      u1, \", es decir, \", u0-u1  , \"menos\")  "
   ]
  },
  {
   "cell_type": "code",
   "execution_count": 31,
   "metadata": {},
   "outputs": [
    {
     "name": "stdout",
     "output_type": "stream",
     "text": [
      "(3159, 1)\n",
      "(12054933, 6) (3159, 3)\n"
     ]
    }
   ],
   "source": [
    "# Crearemos los campos totalizados con el \"Ranking\" promedio y \"Q_Ranging\" total de valoraciones por película\n",
    "\n",
    "# Se crea el ranking promedio de calificaciónes \n",
    "\n",
    "rank_movies_top_tg = df_ratings_top.groupby([\"movieId\"])\n",
    "rank_movies_top_tg = rank_movies_top_tg.aggregate( \n",
    "    {\n",
    "        \"rating\": np.mean,\n",
    "    }\n",
    ")\n",
    "\n",
    "# Se crea base de datos \"df_ratings_top_tg\" con el \"movieId\" de películas unicas\n",
    "df_ratings_top_tg = df_ratings_top[[\"movieId\"]]\n",
    "df_ratings_top_tg = df_ratings_top_tg.drop_duplicates(subset=([\"movieId\"]))\n",
    "print(df_ratings_top_tg.shape)\n",
    "\n",
    "# Agrega \"rating\" promedio a la base de datos principal\n",
    "df_ratings_top_tg = pd.merge(left = df_ratings_top_tg, right = rank_movies_top_tg, how = \"left\", \n",
    "                        right_on = \"movieId\", left_on = \"movieId\")\n",
    "\n",
    "# Agrega \"Q_Ratings\" a la base de datos principal\n",
    "top_best_views.columns = [\"Q_Ratings\"]\n",
    "df_ratings_top_tg = pd.merge(left = df_ratings_top_tg, right = top_best_views, how = \"left\", \n",
    "                          right_on = \"movieId\", left_on = \"movieId\")\n",
    "\n",
    "print(df_ratings_top.shape, df_ratings_top_tg.shape)"
   ]
  },
  {
   "cell_type": "code",
   "execution_count": 32,
   "metadata": {
    "scrolled": true
   },
   "outputs": [
    {
     "name": "stdout",
     "output_type": "stream",
     "text": [
      "(27278, 23) (3159, 3) (3159, 25)\n"
     ]
    },
    {
     "data": {
      "text/html": [
       "<div>\n",
       "<style scoped>\n",
       "    .dataframe tbody tr th:only-of-type {\n",
       "        vertical-align: middle;\n",
       "    }\n",
       "\n",
       "    .dataframe tbody tr th {\n",
       "        vertical-align: top;\n",
       "    }\n",
       "\n",
       "    .dataframe thead th {\n",
       "        text-align: right;\n",
       "    }\n",
       "</style>\n",
       "<table border=\"1\" class=\"dataframe\">\n",
       "  <thead>\n",
       "    <tr style=\"text-align: right;\">\n",
       "      <th></th>\n",
       "      <th>MovieId</th>\n",
       "      <th>Title</th>\n",
       "      <th>Age</th>\n",
       "      <th>Q_Ratings</th>\n",
       "      <th>Rating</th>\n",
       "      <th>All_Genres</th>\n",
       "      <th>Adventure</th>\n",
       "      <th>Animation</th>\n",
       "      <th>Children</th>\n",
       "      <th>Comedy</th>\n",
       "      <th>...</th>\n",
       "      <th>Horror</th>\n",
       "      <th>Mystery</th>\n",
       "      <th>Sci-Fi</th>\n",
       "      <th>IMAX</th>\n",
       "      <th>Documentary</th>\n",
       "      <th>War</th>\n",
       "      <th>Musical</th>\n",
       "      <th>Western</th>\n",
       "      <th>Film-Noir</th>\n",
       "      <th>(no genres listed)</th>\n",
       "    </tr>\n",
       "  </thead>\n",
       "  <tbody>\n",
       "    <tr>\n",
       "      <th>0</th>\n",
       "      <td>2</td>\n",
       "      <td>Jumanji (1995)</td>\n",
       "      <td>1995</td>\n",
       "      <td>22243</td>\n",
       "      <td>3.056825</td>\n",
       "      <td>Adventure|Children|Fantasy</td>\n",
       "      <td>1</td>\n",
       "      <td>0</td>\n",
       "      <td>1</td>\n",
       "      <td>0</td>\n",
       "      <td>...</td>\n",
       "      <td>0</td>\n",
       "      <td>0</td>\n",
       "      <td>0</td>\n",
       "      <td>0</td>\n",
       "      <td>0</td>\n",
       "      <td>0</td>\n",
       "      <td>0</td>\n",
       "      <td>0</td>\n",
       "      <td>0</td>\n",
       "      <td>0</td>\n",
       "    </tr>\n",
       "    <tr>\n",
       "      <th>1</th>\n",
       "      <td>29</td>\n",
       "      <td>City of Lost Children, The (Cité des enfants p...</td>\n",
       "      <td>1995</td>\n",
       "      <td>8520</td>\n",
       "      <td>3.926361</td>\n",
       "      <td>Adventure|Drama|Fantasy|Mystery|Sci-Fi</td>\n",
       "      <td>1</td>\n",
       "      <td>0</td>\n",
       "      <td>0</td>\n",
       "      <td>0</td>\n",
       "      <td>...</td>\n",
       "      <td>0</td>\n",
       "      <td>1</td>\n",
       "      <td>1</td>\n",
       "      <td>0</td>\n",
       "      <td>0</td>\n",
       "      <td>0</td>\n",
       "      <td>0</td>\n",
       "      <td>0</td>\n",
       "      <td>0</td>\n",
       "      <td>0</td>\n",
       "    </tr>\n",
       "  </tbody>\n",
       "</table>\n",
       "<p>2 rows × 26 columns</p>\n",
       "</div>"
      ],
      "text/plain": [
       "   MovieId                                              Title   Age  \\\n",
       "0        2                                     Jumanji (1995)  1995   \n",
       "1       29  City of Lost Children, The (Cité des enfants p...  1995   \n",
       "\n",
       "   Q_Ratings    Rating                              All_Genres  Adventure  \\\n",
       "0      22243  3.056825              Adventure|Children|Fantasy          1   \n",
       "1       8520  3.926361  Adventure|Drama|Fantasy|Mystery|Sci-Fi          1   \n",
       "\n",
       "   Animation  Children  Comedy  ...  Horror  Mystery  Sci-Fi  IMAX  \\\n",
       "0          0         1       0  ...       0        0       0     0   \n",
       "1          0         0       0  ...       0        1       1     0   \n",
       "\n",
       "   Documentary  War  Musical  Western  Film-Noir  (no genres listed)  \n",
       "0            0    0        0        0          0                   0  \n",
       "1            0    0        0        0          0                   0  \n",
       "\n",
       "[2 rows x 26 columns]"
      ]
     },
     "execution_count": 32,
     "metadata": {},
     "output_type": "execute_result"
    }
   ],
   "source": [
    "# Creamos una base de datos principal \"df_movies_tg\" e incorporamos los campos \"Ranking\", \"Q_Ranging\"\n",
    "df_movies_tg = pd.merge(left = df_ratings_top_tg, right = df_movies, how = \"inner\", \n",
    "                        right_on = \"movieId\", left_on = \"movieId\")\n",
    "\n",
    "print(df_movies.shape, df_ratings_top_tg.shape, df_movies_tg.shape)\n",
    "\n",
    "# Bucle para agregar el campo de \"Age\" a la base de datos principal\n",
    "dates = []\n",
    "for d in range(0,df_movies_tg[\"title\"].shape[0]):\n",
    "    date = int(df_movies_tg[\"title\"][d][len(df_movies_tg[\"title\"][d])-5:len(df_movies_tg[\"title\"][d])-1])\n",
    "    dates.append(date)\n",
    "dates = pd.DataFrame(dates)\n",
    "dates.columns = [\"Age\"]\n",
    "\n",
    "df_movies_tg = pd.concat([df_movies_tg, dates], axis = 1)\n",
    "\n",
    "# Estiliza nombres de columnas y ordena su posición en el DF\n",
    "df_movies_tg.columns = ['MovieId', 'Rating', 'Q_Ratings', 'Title', 'All_Genres', 'Adventure',\n",
    "       'Animation', 'Children', 'Comedy', 'Fantasy', 'Romance', 'Drama',\n",
    "       'Action', 'Crime', 'Thriller', 'Horror', 'Mystery', 'Sci-Fi', 'IMAX',\n",
    "       'Documentary', 'War', 'Musical', 'Western', 'Film-Noir',\n",
    "       '(no genres listed)', 'Age']\n",
    "cols = ['MovieId', 'Title', 'Age', 'Q_Ratings', 'Rating', 'All_Genres', 'Adventure',\n",
    "       'Animation', 'Children', 'Comedy', 'Fantasy', 'Romance', 'Drama',\n",
    "       'Action', 'Crime', 'Thriller', 'Horror', 'Mystery', 'Sci-Fi', 'IMAX',\n",
    "       'Documentary', 'War', 'Musical', 'Western', 'Film-Noir',\n",
    "       '(no genres listed)']\n",
    "df_movies_tg = df_movies_tg[cols]\n",
    "\n",
    "# Guarda \"df_movies_tg en un archivo excel\n",
    "df_movies_tg.to_excel(\"../datasets/Movies 20M/Reports/df_movies_tg.xlsx\")\n",
    "\n",
    "df_movies_tg[:2]"
   ]
  },
  {
   "cell_type": "code",
   "execution_count": 33,
   "metadata": {},
   "outputs": [],
   "source": [
    "def selector(Genres='All', Azim=230, Elev=20):\n",
    "    \n",
    "    from mpl_toolkits.mplot3d import Axes3D \n",
    "    select = df_movies_tg\n",
    "    select[\"All\"] = 1\n",
    "    select = select[(select[Genres]==1)]\n",
    "    #select[(select[\"Age\"].values==2014)]\n",
    " \n",
    "    fig = plt.figure(figsize=(9,9))\n",
    "    ax = fig.add_subplot(111, projection=\"3d\", azim=Azim, elev=Elev) # 111 = dimenciones del gráfico\n",
    "    ax.scatter(xs=select[\"Rating\"], ys=select[\"Age\"], zs=select[\"Q_Ratings\"], color=\"b\", linewidths=0.001)\n",
    "    plt.xlabel(\"Rating\")\n",
    "    plt.ylabel(\"Age\")\n",
    "    plt.title(\"Relación entre Valoraciónes y Cantidad de Valoraciones por Año\")\n",
    "\n",
    "    figure, axs  = plt.subplots(3,2, sharey = False, sharex = False, figsize=(14,15))\n",
    "    select.plot(kind=\"hist\", x=\"Age\", y=\"Rating\", ax = axs[0][0])\n",
    "    select.plot(kind=\"scatter\", x=\"Rating\", y=\"Q_Ratings\", ax = axs[0][1])\n",
    "    select.plot(kind=\"hist\", x=\"Age\", y=\"Q_Ratings\", ax = axs[1][0])\n",
    "    select.plot(kind=\"scatter\", x=\"Rating\", y=\"Age\", ax = axs[1][1])\n",
    "    select.plot(kind=\"hist\", x=\"Q_Ratings\", y=\"Age\", ax = axs[2][0])\n",
    "    select.plot(kind=\"scatter\", x=\"Q_Ratings\", y=\"Age\", ax = axs[2][1])\n",
    "    plt.show()\n",
    "\n",
    "    best_views=pd.DataFrame(select.groupby([\"Rating\"])[\"Rating\"].count())\n",
    "    plt.figure(figsize=(15,2))\n",
    "    print(\"Box Plot de las Valoraciones por Género\")\n",
    "    plt.boxplot(select[\"Rating\"], vert=False)\n",
    "    plt.show()\n",
    "    #print(\"Estadisticos principales de las Valoraciones\")\n",
    "    #print(select.Rating.describe())\n",
    "    select=select[[\"Title\",\"Q_Ratings\",\"Rating\"]]\n",
    "    print(\"Top 5 Movie Ratings\")\n",
    "    print(select.sort_values([\"Rating\",\"Q_Ratings\"])[::-1][:6])"
   ]
  },
  {
   "cell_type": "code",
   "execution_count": 34,
   "metadata": {
    "scrolled": false
   },
   "outputs": [
    {
     "data": {
      "application/vnd.jupyter.widget-view+json": {
       "model_id": "8be7b96fa090468586ddb1a5462678a3",
       "version_major": 2,
       "version_minor": 0
      },
      "text/plain": [
       "interactive(children=(Dropdown(description='Genres', options=('All', 'Adventure', 'Animation', 'Children', 'Co…"
      ]
     },
     "metadata": {},
     "output_type": "display_data"
    },
    {
     "data": {
      "text/plain": [
       "<function __main__.selector(Genres='All', Azim=230, Elev=20)>"
      ]
     },
     "execution_count": 34,
     "metadata": {},
     "output_type": "execute_result"
    }
   ],
   "source": [
    "from ipywidgets import interact\n",
    "interact(selector, Genres = ['All', 'Adventure', 'Animation', 'Children', 'Comedy', 'Fantasy', 'Romance',\n",
    "       'Drama', 'Action', 'Crime', 'Thriller', 'Horror', 'Mystery', 'Sci-Fi',\n",
    "       'IMAX', 'Documentary', 'War', 'Musical', 'Western', 'Film-Noir'],  \n",
    "        Azim=[200,215,230,245,260], Elev=[10, 20, 40, 60, 90] \n",
    "       )"
   ]
  },
  {
   "cell_type": "markdown",
   "metadata": {},
   "source": [
    "#### Segmentación del dataset \"df_movies_tg\" por género para generar modelo de K-NearestNeighbors"
   ]
  },
  {
   "cell_type": "raw",
   "metadata": {},
   "source": [
    "# Géneros posibles a utilizar en el subset \"df_ratings_tg\" para creación del modelo K-NearestNeighbors\n",
    "\n",
    " #Group 1\n",
    "(subset[\"Adventure\"]==1) | (subset[\"Animation\"]==1) | (subset[\"Action\"]==1)\n",
    "\n",
    " #Group 2\n",
    "(subset[\"Thriller\"]==1) | (subset[\"Sci-Fi\"]==1)\n",
    "\n",
    " #Group 3\n",
    "(subset[\"Action\"]==1) | (subset[\"War\"]==1)\n",
    "\n",
    " #Group 4\n",
    "(subset[\"Drama\"]==1)\n",
    "\n",
    " #Group 5\n",
    "(subset[\"Comedy\"]==1)\n",
    "\n",
    " #Group 6\n",
    "(subset[\"Horror\"]==1)"
   ]
  },
  {
   "cell_type": "code",
   "execution_count": 35,
   "metadata": {},
   "outputs": [],
   "source": [
    "# Especificamos las columnas que utilizaremos para nuestro análisis en el modelo de K-NearestNeighbors\n",
    "\n",
    "desired_columns_k = [\"movieId\", \"title\", \"genres\", \"Adventure\", \"Animation\", \"Action\", \"Thriller\", \"Sci-Fi\", \"Horror\"]"
   ]
  },
  {
   "cell_type": "code",
   "execution_count": 36,
   "metadata": {
    "scrolled": false
   },
   "outputs": [
    {
     "name": "stdout",
     "output_type": "stream",
     "text": [
      "(27278, 23) (2611, 9)\n",
      "(20000263, 4) (12054933, 6) (923282, 14)\n",
      "Variación en N° usuarios 138493 a 35470\n",
      "Variación en N° películas: 26744 a 285\n"
     ]
    },
    {
     "data": {
      "text/html": [
       "<div>\n",
       "<style scoped>\n",
       "    .dataframe tbody tr th:only-of-type {\n",
       "        vertical-align: middle;\n",
       "    }\n",
       "\n",
       "    .dataframe tbody tr th {\n",
       "        vertical-align: top;\n",
       "    }\n",
       "\n",
       "    .dataframe thead th {\n",
       "        text-align: right;\n",
       "    }\n",
       "</style>\n",
       "<table border=\"1\" class=\"dataframe\">\n",
       "  <thead>\n",
       "    <tr style=\"text-align: right;\">\n",
       "      <th></th>\n",
       "      <th>userId</th>\n",
       "      <th>movieId</th>\n",
       "      <th>rating</th>\n",
       "      <th>timestamp</th>\n",
       "      <th>rank_user_ID</th>\n",
       "      <th>rank_movie_ID</th>\n",
       "      <th>title</th>\n",
       "      <th>genres</th>\n",
       "      <th>Adventure</th>\n",
       "      <th>Animation</th>\n",
       "      <th>Action</th>\n",
       "      <th>Thriller</th>\n",
       "      <th>Sci-Fi</th>\n",
       "      <th>Horror</th>\n",
       "    </tr>\n",
       "  </thead>\n",
       "  <tbody>\n",
       "    <tr>\n",
       "      <th>0</th>\n",
       "      <td>1</td>\n",
       "      <td>253</td>\n",
       "      <td>4.0</td>\n",
       "      <td>1112484940</td>\n",
       "      <td>175</td>\n",
       "      <td>27568</td>\n",
       "      <td>Interview with the Vampire: The Vampire Chroni...</td>\n",
       "      <td>Drama|Horror</td>\n",
       "      <td>0</td>\n",
       "      <td>0</td>\n",
       "      <td>0</td>\n",
       "      <td>0</td>\n",
       "      <td>0</td>\n",
       "      <td>1</td>\n",
       "    </tr>\n",
       "    <tr>\n",
       "      <th>1</th>\n",
       "      <td>11</td>\n",
       "      <td>253</td>\n",
       "      <td>4.5</td>\n",
       "      <td>1230858996</td>\n",
       "      <td>504</td>\n",
       "      <td>27568</td>\n",
       "      <td>Interview with the Vampire: The Vampire Chroni...</td>\n",
       "      <td>Drama|Horror</td>\n",
       "      <td>0</td>\n",
       "      <td>0</td>\n",
       "      <td>0</td>\n",
       "      <td>0</td>\n",
       "      <td>0</td>\n",
       "      <td>1</td>\n",
       "    </tr>\n",
       "  </tbody>\n",
       "</table>\n",
       "</div>"
      ],
      "text/plain": [
       "   userId  movieId  rating   timestamp  rank_user_ID  rank_movie_ID  \\\n",
       "0       1      253     4.0  1112484940           175          27568   \n",
       "1      11      253     4.5  1230858996           504          27568   \n",
       "\n",
       "                                               title        genres  Adventure  \\\n",
       "0  Interview with the Vampire: The Vampire Chroni...  Drama|Horror          0   \n",
       "1  Interview with the Vampire: The Vampire Chroni...  Drama|Horror          0   \n",
       "\n",
       "   Animation  Action  Thriller  Sci-Fi  Horror  \n",
       "0          0       0         0       0       1  \n",
       "1          0       0         0       0       1  "
      ]
     },
     "execution_count": 36,
     "metadata": {},
     "output_type": "execute_result"
    }
   ],
   "source": [
    "# Creamos un subset de \"df_ratings_tg\" para utilizarlo posteriormente en el modelo de K-NearestNeighbors\n",
    "\n",
    "subset = df_movies[desired_columns_k]\n",
    "\n",
    "subset1 = subset[(subset[\"Horror\"]==1)]\n",
    "print(df_movies.shape, subset1.shape)\n",
    "\n",
    "df_ratings_tg = pd.merge(left = df_ratings_top, right = subset1, how = \"inner\", \n",
    "                         right_on = \"movieId\", left_on = \"movieId\")\n",
    "print(df_ratings.shape , df_ratings_top.shape, df_ratings_tg.shape)\n",
    "print(\"Variación en N° usuarios\", df_ratings.userId.unique().shape[0],\"a\", df_ratings_tg.userId.unique().shape[0])\n",
    "print(\"Variación en N° películas:\",df_ratings.movieId.unique().shape[0],\"a\",df_ratings_tg.movieId.unique().shape[0])\n",
    "\n",
    "df_ratings_tg[:2]"
   ]
  },
  {
   "cell_type": "code",
   "execution_count": 37,
   "metadata": {
    "scrolled": true
   },
   "outputs": [
    {
     "data": {
      "image/png": "[encoded data removed]",
      "text/plain": [
       "<Figure size 432x288 with 1 Axes>"
      ]
     },
     "metadata": {
      "needs_background": "light"
     },
     "output_type": "display_data"
    }
   ],
   "source": [
    "plt.hist(df_ratings_tg.rating)\n",
    "plt.show()"
   ]
  },
  {
   "cell_type": "code",
   "execution_count": 38,
   "metadata": {
    "scrolled": true
   },
   "outputs": [
    {
     "data": {
      "image/png": "[encoded data removed]",
      "text/plain": [
       "<Figure size 432x288 with 1 Axes>"
      ]
     },
     "metadata": {
      "needs_background": "light"
     },
     "output_type": "display_data"
    }
   ],
   "source": [
    "plt.hist(df_ratings_tg.groupby([\"movieId\"])[\"movieId\"].count()), \n",
    "plt.hist(df_ratings_tg.groupby([\"rank_movie_ID\"])[\"rank_movie_ID\"].count()),\n",
    "plt.show()"
   ]
  },
  {
   "cell_type": "code",
   "execution_count": 39,
   "metadata": {
    "scrolled": true
   },
   "outputs": [
    {
     "data": {
      "image/png": "[encoded data removed]",
      "text/plain": [
       "<Figure size 432x288 with 1 Axes>"
      ]
     },
     "metadata": {
      "needs_background": "light"
     },
     "output_type": "display_data"
    }
   ],
   "source": [
    "plt.hist(df_ratings_tg.groupby([\"rank_user_ID\"])[\"rank_user_ID\"].count()) \n",
    "plt.show()"
   ]
  },
  {
   "cell_type": "code",
   "execution_count": 40,
   "metadata": {
    "scrolled": true
   },
   "outputs": [
    {
     "name": "stdout",
     "output_type": "stream",
     "text": [
      "(646297, 4) (276985, 4)\n",
      "Usuarios únicos:  33816\n",
      "Películas únicas:  285\n"
     ]
    }
   ],
   "source": [
    "# Por limitaciones en memoria RAM del ordenador dividiremos la base de datos aleatorizamente en 2 grupos\n",
    "\n",
    "df_ratings_t1 = df_ratings_tg[[\"userId\", \"movieId\", \"rating\", \"timestamp\"]]\n",
    "df_ratings_t0, df_ratings_t1 = train_test_split(df_ratings_t1, test_size = 0.3, random_state=2)\n",
    "#df_ratings_t0, df_ratings_t1 = train_test_split(df_ratings_t1, test_size = 0.0002, random_state=2) # FOR MODEL TEST\n",
    "print(df_ratings_t0.shape , df_ratings_t1.shape)\n",
    "print(\"Usuarios únicos: \", df_ratings_t1.userId.unique().shape[0])\n",
    "print(\"Películas únicas: \", df_ratings_t1.movieId.unique().shape[0])"
   ]
  },
  {
   "cell_type": "code",
   "execution_count": 41,
   "metadata": {
    "scrolled": true
   },
   "outputs": [
    {
     "name": "stdout",
     "output_type": "stream",
     "text": [
      "(276985, 6)\n",
      "       userId  movieId  rating   timestamp  userId_DC  movieId_DC\n",
      "1086    50808     3499     4.0  1418071041       1049         109\n",
      "38783   50808     6754     4.0  1418500543       1049         123\n",
      "73469   50808     2722     3.0  1418071767       1049         100\n"
     ]
    },
    {
     "data": {
      "text/html": [
       "<div>\n",
       "<style scoped>\n",
       "    .dataframe tbody tr th:only-of-type {\n",
       "        vertical-align: middle;\n",
       "    }\n",
       "\n",
       "    .dataframe tbody tr th {\n",
       "        vertical-align: top;\n",
       "    }\n",
       "\n",
       "    .dataframe thead th {\n",
       "        text-align: right;\n",
       "    }\n",
       "</style>\n",
       "<table border=\"1\" class=\"dataframe\">\n",
       "  <thead>\n",
       "    <tr style=\"text-align: right;\">\n",
       "      <th></th>\n",
       "      <th>userId_DC</th>\n",
       "      <th>movieId_DC</th>\n",
       "      <th>rating</th>\n",
       "      <th>timestamp</th>\n",
       "    </tr>\n",
       "  </thead>\n",
       "  <tbody>\n",
       "    <tr>\n",
       "      <th>0</th>\n",
       "      <td>1</td>\n",
       "      <td>1</td>\n",
       "      <td>5.0</td>\n",
       "      <td>956710974</td>\n",
       "    </tr>\n",
       "    <tr>\n",
       "      <th>1</th>\n",
       "      <td>2</td>\n",
       "      <td>2</td>\n",
       "      <td>3.5</td>\n",
       "      <td>1304968963</td>\n",
       "    </tr>\n",
       "    <tr>\n",
       "      <th>2</th>\n",
       "      <td>3</td>\n",
       "      <td>3</td>\n",
       "      <td>3.0</td>\n",
       "      <td>979592796</td>\n",
       "    </tr>\n",
       "  </tbody>\n",
       "</table>\n",
       "</div>"
      ],
      "text/plain": [
       "   userId_DC  movieId_DC  rating   timestamp\n",
       "0          1           1     5.0   956710974\n",
       "1          2           2     3.5  1304968963\n",
       "2          3           3     3.0   979592796"
      ]
     },
     "execution_count": 41,
     "metadata": {},
     "output_type": "execute_result"
    }
   ],
   "source": [
    "# Para evitar el error de \"index\" en el modelo al generar la matriz de entre \"userId\" y \"movieId\", creé un \n",
    "# diccionario adicional con un nuevo \"index\" de 1 a N para los nuevos campos \"userId_DC\" y \"movieId_DC\"\n",
    "\n",
    "userId_DC=list(zip(df_ratings_t1.userId.unique(),range(1,df_ratings_t1.userId.unique().shape[0]+1)))\n",
    "movieId_DC=list(zip(df_ratings_t1.movieId.unique(),range(1,df_ratings_t1.movieId.unique().shape[0]+1)))\n",
    "userId_DC = pd.DataFrame(userId_DC)\n",
    "userId_DC.columns = [\"userId\", \"userId_DC\"]\n",
    "movieId_DC = pd.DataFrame(movieId_DC)\n",
    "movieId_DC.columns = [\"movieId\", \"movieId_DC\"]\n",
    "\n",
    "\n",
    "# Permite unir los nuevos campos de \"userId_DC\" y \"movieId_DC\" a la base de datos de ratings \"df_ratings_t2\"\n",
    "df_ratings_t2 = pd.merge(left = df_ratings_t1, right = userId_DC, how = \"left\", \n",
    "                         right_on = \"userId\", left_on = \"userId\")\n",
    "\n",
    "df_ratings_t2 = pd.merge(left = df_ratings_t2, right = movieId_DC, how = \"left\", \n",
    "                         right_on = \"movieId\", left_on = \"movieId\")\n",
    "print(df_ratings_t2.shape)\n",
    "print(df_ratings_t2[(df_ratings_t2[\"userId_DC\"]==1049)][:3])\n",
    "\n",
    "\n",
    "# Permite seleccionar solo los campos que utilizaremos\n",
    "df_ratings_t2 = df_ratings_t2[[\"userId_DC\", \"movieId_DC\", \"rating\", \"timestamp\"]]\n",
    "df_ratings_t2.head(3)"
   ]
  },
  {
   "cell_type": "markdown",
   "metadata": {},
   "source": [
    "## Creación de Modelo"
   ]
  },
  {
   "cell_type": "markdown",
   "metadata": {},
   "source": [
    "### Filtro colaborativo basado en KNN (para items)"
   ]
  },
  {
   "cell_type": "code",
   "execution_count": 42,
   "metadata": {},
   "outputs": [
    {
     "data": {
      "text/plain": [
       "(33816, 286)"
      ]
     },
     "execution_count": 42,
     "metadata": {},
     "output_type": "execute_result"
    }
   ],
   "source": [
    "n_users = df_ratings_t2.userId_DC.unique().shape[0]\n",
    "n_items = df_ratings_t2.movieId_DC.unique().shape[0]+1\n",
    "\n",
    "n_users, n_items"
   ]
  },
  {
   "cell_type": "code",
   "execution_count": 43,
   "metadata": {},
   "outputs": [
    {
     "data": {
      "text/plain": [
       "(33816, 286)"
      ]
     },
     "execution_count": 43,
     "metadata": {},
     "output_type": "execute_result"
    }
   ],
   "source": [
    "views = np.zeros((n_users, n_items))\n",
    "views.shape"
   ]
  },
  {
   "cell_type": "code",
   "execution_count": 44,
   "metadata": {
    "scrolled": false
   },
   "outputs": [
    {
     "name": "stdout",
     "output_type": "stream",
     "text": [
      "[[5.  0.  3.  ... 0.  0.  0. ]\n",
      " [2.5 3.5 0.  ... 0.  0.  0. ]\n",
      " [5.  0.  3.  ... 0.  0.  0. ]\n",
      " ...\n",
      " [0.  0.  0.  ... 0.  0.  0. ]\n",
      " [0.  0.  0.  ... 0.  0.  0. ]\n",
      " [5.  0.  0.  ... 0.  0.  0. ]]\n",
      "<class 'numpy.ndarray'> (33816, 286)\n",
      "Coeficiente de sparsieda: 2.86%\n"
     ]
    }
   ],
   "source": [
    "for row in df_ratings_t2.itertuples(): \n",
    "    views[row[1]-1, row[2]-1] = row[3]\n",
    "\n",
    "print(views)\n",
    "print(type(views), views.shape)\n",
    "\n",
    "\n",
    "sparsity = float(len(views.nonzero()[0]))\n",
    "sparsity /= (views.shape[0]*views.shape[1])\n",
    "sparsity *= 100\n",
    "print(\"Coeficiente de sparsieda: {:4.2f}%\".format(sparsity)) "
   ]
  },
  {
   "cell_type": "code",
   "execution_count": 45,
   "metadata": {},
   "outputs": [],
   "source": [
    "k = 11\n",
    "#neighbors_mov = NearestNeighbors(k, \"cosine\")\n",
    "neighbors_mov = NearestNeighbors(k,metric='minkowski', p=2)\n",
    "neighbors_mov.fit(views.T)\n",
    "top_views_k_distances, top_views_k_items = neighbors_mov.kneighbors(views.T, return_distance=True)"
   ]
  },
  {
   "cell_type": "code",
   "execution_count": 46,
   "metadata": {},
   "outputs": [
    {
     "data": {
      "text/html": [
       "<div>\n",
       "<style scoped>\n",
       "    .dataframe tbody tr th:only-of-type {\n",
       "        vertical-align: middle;\n",
       "    }\n",
       "\n",
       "    .dataframe tbody tr th {\n",
       "        vertical-align: top;\n",
       "    }\n",
       "\n",
       "    .dataframe thead th {\n",
       "        text-align: right;\n",
       "    }\n",
       "</style>\n",
       "<table border=\"1\" class=\"dataframe\">\n",
       "  <thead>\n",
       "    <tr style=\"text-align: right;\">\n",
       "      <th></th>\n",
       "      <th>0</th>\n",
       "      <th>1</th>\n",
       "      <th>2</th>\n",
       "      <th>3</th>\n",
       "      <th>4</th>\n",
       "      <th>5</th>\n",
       "      <th>6</th>\n",
       "      <th>7</th>\n",
       "      <th>8</th>\n",
       "      <th>9</th>\n",
       "      <th>10</th>\n",
       "    </tr>\n",
       "  </thead>\n",
       "  <tbody>\n",
       "    <tr>\n",
       "      <th>1</th>\n",
       "      <td>1</td>\n",
       "      <td>285</td>\n",
       "      <td>150</td>\n",
       "      <td>224</td>\n",
       "      <td>54</td>\n",
       "      <td>271</td>\n",
       "      <td>261</td>\n",
       "      <td>149</td>\n",
       "      <td>240</td>\n",
       "      <td>76</td>\n",
       "      <td>138</td>\n",
       "    </tr>\n",
       "    <tr>\n",
       "      <th>2</th>\n",
       "      <td>2</td>\n",
       "      <td>285</td>\n",
       "      <td>150</td>\n",
       "      <td>261</td>\n",
       "      <td>54</td>\n",
       "      <td>184</td>\n",
       "      <td>260</td>\n",
       "      <td>280</td>\n",
       "      <td>149</td>\n",
       "      <td>224</td>\n",
       "      <td>271</td>\n",
       "    </tr>\n",
       "    <tr>\n",
       "      <th>3</th>\n",
       "      <td>3</td>\n",
       "      <td>285</td>\n",
       "      <td>280</td>\n",
       "      <td>150</td>\n",
       "      <td>224</td>\n",
       "      <td>54</td>\n",
       "      <td>76</td>\n",
       "      <td>184</td>\n",
       "      <td>271</td>\n",
       "      <td>249</td>\n",
       "      <td>261</td>\n",
       "    </tr>\n",
       "  </tbody>\n",
       "</table>\n",
       "</div>"
      ],
      "text/plain": [
       "   0    1    2    3    4    5    6    7    8    9    10\n",
       "1   1  285  150  224   54  271  261  149  240   76  138\n",
       "2   2  285  150  261   54  184  260  280  149  224  271\n",
       "3   3  285  280  150  224   54   76  184  271  249  261"
      ]
     },
     "execution_count": 46,
     "metadata": {},
     "output_type": "execute_result"
    }
   ],
   "source": [
    "top_10_mov = pd.DataFrame(top_views_k_items)\n",
    "top_10_mov = top_10_mov.drop([0], axis = 0)\n",
    "top_10_mov.head(3)"
   ]
  },
  {
   "cell_type": "code",
   "execution_count": 47,
   "metadata": {
    "scrolled": false
   },
   "outputs": [
    {
     "data": {
      "text/html": [
       "<div>\n",
       "<style scoped>\n",
       "    .dataframe tbody tr th:only-of-type {\n",
       "        vertical-align: middle;\n",
       "    }\n",
       "\n",
       "    .dataframe tbody tr th {\n",
       "        vertical-align: top;\n",
       "    }\n",
       "\n",
       "    .dataframe thead th {\n",
       "        text-align: right;\n",
       "    }\n",
       "</style>\n",
       "<table border=\"1\" class=\"dataframe\">\n",
       "  <thead>\n",
       "    <tr style=\"text-align: right;\">\n",
       "      <th></th>\n",
       "      <th>0</th>\n",
       "      <th>1</th>\n",
       "      <th>2</th>\n",
       "      <th>3</th>\n",
       "      <th>4</th>\n",
       "      <th>5</th>\n",
       "      <th>6</th>\n",
       "      <th>7</th>\n",
       "      <th>8</th>\n",
       "      <th>9</th>\n",
       "      <th>10</th>\n",
       "    </tr>\n",
       "  </thead>\n",
       "  <tbody>\n",
       "    <tr>\n",
       "      <th>0</th>\n",
       "      <td>0.0</td>\n",
       "      <td>374.726233</td>\n",
       "      <td>375.024999</td>\n",
       "      <td>375.128978</td>\n",
       "      <td>375.161299</td>\n",
       "      <td>375.218603</td>\n",
       "      <td>375.268237</td>\n",
       "      <td>375.301878</td>\n",
       "      <td>375.313203</td>\n",
       "      <td>375.344175</td>\n",
       "      <td>375.497004</td>\n",
       "    </tr>\n",
       "    <tr>\n",
       "      <th>1</th>\n",
       "      <td>0.0</td>\n",
       "      <td>148.774998</td>\n",
       "      <td>150.014999</td>\n",
       "      <td>150.308017</td>\n",
       "      <td>150.646938</td>\n",
       "      <td>150.707498</td>\n",
       "      <td>150.806996</td>\n",
       "      <td>151.027315</td>\n",
       "      <td>151.278716</td>\n",
       "      <td>151.461216</td>\n",
       "      <td>151.475246</td>\n",
       "    </tr>\n",
       "    <tr>\n",
       "      <th>2</th>\n",
       "      <td>0.0</td>\n",
       "      <td>143.574023</td>\n",
       "      <td>145.651982</td>\n",
       "      <td>146.175408</td>\n",
       "      <td>146.196785</td>\n",
       "      <td>146.277134</td>\n",
       "      <td>146.489761</td>\n",
       "      <td>146.502560</td>\n",
       "      <td>146.575066</td>\n",
       "      <td>146.575919</td>\n",
       "      <td>146.670549</td>\n",
       "    </tr>\n",
       "  </tbody>\n",
       "</table>\n",
       "</div>"
      ],
      "text/plain": [
       "    0           1           2           3           4           5   \\\n",
       "0  0.0  374.726233  375.024999  375.128978  375.161299  375.218603   \n",
       "1  0.0  148.774998  150.014999  150.308017  150.646938  150.707498   \n",
       "2  0.0  143.574023  145.651982  146.175408  146.196785  146.277134   \n",
       "\n",
       "           6           7           8           9           10  \n",
       "0  375.268237  375.301878  375.313203  375.344175  375.497004  \n",
       "1  150.806996  151.027315  151.278716  151.461216  151.475246  \n",
       "2  146.489761  146.502560  146.575066  146.575919  146.670549  "
      ]
     },
     "execution_count": 47,
     "metadata": {},
     "output_type": "execute_result"
    }
   ],
   "source": [
    "top_10_dis = pd.DataFrame(top_views_k_distances)\n",
    "top_10_dis.head(3)"
   ]
  },
  {
   "cell_type": "markdown",
   "metadata": {},
   "source": [
    "### Evaluación del Modelo"
   ]
  },
  {
   "cell_type": "code",
   "execution_count": 70,
   "metadata": {},
   "outputs": [],
   "source": [
    "def get_mse(preds, actuals):\n",
    "    if preds.shape[0]!=actuals.shape[0]:\n",
    "        actuals = actuals.T\n",
    "    preds = preds[actuals.nonzero()].flatten() \n",
    "    actuals = actuals[actuals.nonzero()].flatten() \n",
    "    return mean_squared_error(preds,actuals)"
   ]
  },
  {
   "cell_type": "code",
   "execution_count": 71,
   "metadata": {},
   "outputs": [
    {
     "data": {
      "text/plain": [
       "((33816, 286), (286, 11), (286, 11))"
      ]
     },
     "execution_count": 71,
     "metadata": {},
     "output_type": "execute_result"
    }
   ],
   "source": [
    "views.shape , top_views_k_distances.shape , top_views_k_items.shape"
   ]
  },
  {
   "cell_type": "code",
   "execution_count": 72,
   "metadata": {},
   "outputs": [],
   "source": [
    "views = views.T"
   ]
  },
  {
   "cell_type": "code",
   "execution_count": 73,
   "metadata": {},
   "outputs": [
    {
     "name": "stdout",
     "output_type": "stream",
     "text": [
      "iter 0\n",
      "iter 200\n"
     ]
    }
   ],
   "source": [
    "preds = np.zeros(views.shape) \n",
    "for i in range(views.shape[0]):\n",
    "    if(i%200==0):   \n",
    "        print(\"iter \"+str(i))\n",
    "    den = 1\n",
    "    if (np.abs(top_views_k_distances[i]).sum(axis=0)>0):\n",
    "        den = np.abs(top_views_k_distances[i]).sum(axis=0)\n",
    "    preds[i, :] = top_views_k_distances[i].dot(views[top_views_k_items][i])/np.array([den]).T"
   ]
  },
  {
   "cell_type": "code",
   "execution_count": 74,
   "metadata": {},
   "outputs": [
    {
     "data": {
      "text/plain": [
       "((286, 33816), (286, 33816))"
      ]
     },
     "execution_count": 74,
     "metadata": {},
     "output_type": "execute_result"
    }
   ],
   "source": [
    "preds.shape , views.shape"
   ]
  },
  {
   "cell_type": "code",
   "execution_count": 265,
   "metadata": {},
   "outputs": [
    {
     "name": "stdout",
     "output_type": "stream",
     "text": [
      "El MSE de training es: 11.765732242612586\n"
     ]
    }
   ],
   "source": [
    "print(\"El MSE de training es:\",get_mse(preds, views))"
   ]
  },
  {
   "cell_type": "code",
   "execution_count": null,
   "metadata": {},
   "outputs": [],
   "source": [
    "#Test 1\n",
    "# El MSE de training es: 12.80470482841799 con \"minkowski\", size = (1299, 671)\n",
    "# El MSE de training es: 12.80470482841799 con \"cosine\", size = (1299, 671)\n",
    "\n",
    "#Test 2\n",
    "# El MSE de training es: 12.749093509921858 con \"minkowski\", size = (10773, 1563)\n",
    "# El MSE de training es: 12.749093509921858 con \"cosine\", size = (10773, 1563)\n",
    "\n",
    "#Test 3\n",
    "#El MSE de training es: 11.765597311868888 con \"minkowski\", size = (33816, 286)\n"
   ]
  },
  {
   "cell_type": "markdown",
   "metadata": {},
   "source": [
    "## Resumen y Presentación de Información"
   ]
  },
  {
   "cell_type": "code",
   "execution_count": 48,
   "metadata": {
    "scrolled": false
   },
   "outputs": [
    {
     "data": {
      "text/plain": [
       "((285, 2), (923282, 14))"
      ]
     },
     "execution_count": 48,
     "metadata": {},
     "output_type": "execute_result"
    }
   ],
   "source": [
    "movieId_DC.shape, df_ratings_tg.shape"
   ]
  },
  {
   "cell_type": "code",
   "execution_count": 49,
   "metadata": {},
   "outputs": [],
   "source": [
    "# Se agrega un nuevo ID llamado \"movieId_DC\" a la base de datos principal para poder cruzarlo con los K-neighbors\n",
    "\n",
    "movies_k = pd.merge(left = movieId_DC, right = df_ratings_tg, how = \"left\", \n",
    "                    right_on = \"movieId\", left_on = \"movieId\")"
   ]
  },
  {
   "cell_type": "code",
   "execution_count": 50,
   "metadata": {},
   "outputs": [
    {
     "data": {
      "text/plain": [
       "(923282, 15)"
      ]
     },
     "execution_count": 50,
     "metadata": {},
     "output_type": "execute_result"
    }
   ],
   "source": [
    "movies_k.shape"
   ]
  },
  {
   "cell_type": "code",
   "execution_count": 51,
   "metadata": {},
   "outputs": [
    {
     "data": {
      "text/html": [
       "<div>\n",
       "<style scoped>\n",
       "    .dataframe tbody tr th:only-of-type {\n",
       "        vertical-align: middle;\n",
       "    }\n",
       "\n",
       "    .dataframe tbody tr th {\n",
       "        vertical-align: top;\n",
       "    }\n",
       "\n",
       "    .dataframe thead th {\n",
       "        text-align: right;\n",
       "    }\n",
       "</style>\n",
       "<table border=\"1\" class=\"dataframe\">\n",
       "  <thead>\n",
       "    <tr style=\"text-align: right;\">\n",
       "      <th></th>\n",
       "      <th>movieId</th>\n",
       "      <th>movieId_DC</th>\n",
       "      <th>userId</th>\n",
       "      <th>rating</th>\n",
       "      <th>timestamp</th>\n",
       "      <th>rank_user_ID</th>\n",
       "      <th>rank_movie_ID</th>\n",
       "      <th>title</th>\n",
       "      <th>genres</th>\n",
       "      <th>Adventure</th>\n",
       "      <th>Animation</th>\n",
       "      <th>Action</th>\n",
       "      <th>Thriller</th>\n",
       "      <th>Sci-Fi</th>\n",
       "      <th>Horror</th>\n",
       "    </tr>\n",
       "  </thead>\n",
       "  <tbody>\n",
       "    <tr>\n",
       "      <th>0</th>\n",
       "      <td>593</td>\n",
       "      <td>1</td>\n",
       "      <td>1</td>\n",
       "      <td>3.5</td>\n",
       "      <td>1112484661</td>\n",
       "      <td>175</td>\n",
       "      <td>63299</td>\n",
       "      <td>Silence of the Lambs, The (1991)</td>\n",
       "      <td>Crime|Horror|Thriller</td>\n",
       "      <td>0</td>\n",
       "      <td>0</td>\n",
       "      <td>0</td>\n",
       "      <td>1</td>\n",
       "      <td>0</td>\n",
       "      <td>1</td>\n",
       "    </tr>\n",
       "    <tr>\n",
       "      <th>1</th>\n",
       "      <td>593</td>\n",
       "      <td>1</td>\n",
       "      <td>3</td>\n",
       "      <td>5.0</td>\n",
       "      <td>944918215</td>\n",
       "      <td>187</td>\n",
       "      <td>63299</td>\n",
       "      <td>Silence of the Lambs, The (1991)</td>\n",
       "      <td>Crime|Horror|Thriller</td>\n",
       "      <td>0</td>\n",
       "      <td>0</td>\n",
       "      <td>0</td>\n",
       "      <td>1</td>\n",
       "      <td>0</td>\n",
       "      <td>1</td>\n",
       "    </tr>\n",
       "    <tr>\n",
       "      <th>2</th>\n",
       "      <td>593</td>\n",
       "      <td>1</td>\n",
       "      <td>11</td>\n",
       "      <td>5.0</td>\n",
       "      <td>1230858809</td>\n",
       "      <td>504</td>\n",
       "      <td>63299</td>\n",
       "      <td>Silence of the Lambs, The (1991)</td>\n",
       "      <td>Crime|Horror|Thriller</td>\n",
       "      <td>0</td>\n",
       "      <td>0</td>\n",
       "      <td>0</td>\n",
       "      <td>1</td>\n",
       "      <td>0</td>\n",
       "      <td>1</td>\n",
       "    </tr>\n",
       "  </tbody>\n",
       "</table>\n",
       "</div>"
      ],
      "text/plain": [
       "   movieId  movieId_DC  userId  rating   timestamp  rank_user_ID  \\\n",
       "0      593           1       1     3.5  1112484661           175   \n",
       "1      593           1       3     5.0   944918215           187   \n",
       "2      593           1      11     5.0  1230858809           504   \n",
       "\n",
       "   rank_movie_ID                             title                 genres  \\\n",
       "0          63299  Silence of the Lambs, The (1991)  Crime|Horror|Thriller   \n",
       "1          63299  Silence of the Lambs, The (1991)  Crime|Horror|Thriller   \n",
       "2          63299  Silence of the Lambs, The (1991)  Crime|Horror|Thriller   \n",
       "\n",
       "   Adventure  Animation  Action  Thriller  Sci-Fi  Horror  \n",
       "0          0          0       0         1       0       1  \n",
       "1          0          0       0         1       0       1  \n",
       "2          0          0       0         1       0       1  "
      ]
     },
     "execution_count": 51,
     "metadata": {},
     "output_type": "execute_result"
    }
   ],
   "source": [
    "movies_k[:3]"
   ]
  },
  {
   "cell_type": "code",
   "execution_count": 52,
   "metadata": {},
   "outputs": [],
   "source": [
    "# Se crea el ranking promedio de calificaciónes \n",
    "\n",
    "rank_movies_k = movies_k.groupby([\"movieId_DC\"])\n",
    "rank_movies_k = rank_movies_k.aggregate( \n",
    "    {\n",
    "        \"rating\": np.mean,\n",
    "    }\n",
    ")"
   ]
  },
  {
   "cell_type": "code",
   "execution_count": 53,
   "metadata": {
    "scrolled": true
   },
   "outputs": [
    {
     "name": "stdout",
     "output_type": "stream",
     "text": [
      "(923282, 3)\n",
      "(285, 3)\n",
      "(285, 4)\n"
     ]
    }
   ],
   "source": [
    "# Se agrega el ranking promedio de calificaciónes al diccionario de películas \"dic_movies_k\"\n",
    "\n",
    "dic_movies_k = movies_k[[\"movieId\", \"movieId_DC\", \"title\"]]\n",
    "print(dic_movies_k.shape)\n",
    "dic_movies_k=dic_movies_k.drop_duplicates(subset=([\"movieId\", \"movieId_DC\", \"title\"]))\n",
    "print(dic_movies_k.shape)\n",
    "dic_movies_k = pd.merge(left = dic_movies_k, right = rank_movies_k, how = \"left\", \n",
    "                        right_on = \"movieId_DC\", left_on = \"movieId_DC\")\n",
    "print(dic_movies_k.shape)"
   ]
  },
  {
   "cell_type": "code",
   "execution_count": 54,
   "metadata": {},
   "outputs": [
    {
     "name": "stderr",
     "output_type": "stream",
     "text": [
      "/home/pablo/anaconda3/lib/python3.7/site-packages/ipykernel_launcher.py:7: SettingWithCopyWarning: \n",
      "A value is trying to be set on a copy of a slice from a DataFrame\n",
      "\n",
      "See the caveats in the documentation: http://pandas.pydata.org/pandas-docs/stable/indexing.html#indexing-view-versus-copy\n",
      "  import sys\n",
      "/home/pablo/anaconda3/lib/python3.7/site-packages/pandas/core/indexing.py:190: SettingWithCopyWarning: \n",
      "A value is trying to be set on a copy of a slice from a DataFrame\n",
      "\n",
      "See the caveats in the documentation: http://pandas.pydata.org/pandas-docs/stable/indexing.html#indexing-view-versus-copy\n",
      "  self._setitem_with_indexer(indexer, value)\n"
     ]
    }
   ],
   "source": [
    "# Bucle para cambiar el \"movieId_DC\" por el \"title\" correspondiente\n",
    "\n",
    "for n in range(1, int(top_10_mov.shape[0]+1)):\n",
    "    for m in range(0, int(top_10_mov.shape[1])):\n",
    "        for p in range(0, int(dic_movies_k.shape[0])):\n",
    "            if top_10_mov[m][n]==dic_movies_k[\"movieId_DC\"][p]:\n",
    "                top_10_mov[m][n] = dic_movies_k[\"title\"][p]"
   ]
  },
  {
   "cell_type": "code",
   "execution_count": 55,
   "metadata": {
    "scrolled": true
   },
   "outputs": [
    {
     "data": {
      "text/html": [
       "<div>\n",
       "<style scoped>\n",
       "    .dataframe tbody tr th:only-of-type {\n",
       "        vertical-align: middle;\n",
       "    }\n",
       "\n",
       "    .dataframe tbody tr th {\n",
       "        vertical-align: top;\n",
       "    }\n",
       "\n",
       "    .dataframe thead th {\n",
       "        text-align: right;\n",
       "    }\n",
       "</style>\n",
       "<table border=\"1\" class=\"dataframe\">\n",
       "  <thead>\n",
       "    <tr style=\"text-align: right;\">\n",
       "      <th></th>\n",
       "      <th>Top_M</th>\n",
       "      <th>Top 1</th>\n",
       "      <th>Top 2</th>\n",
       "      <th>Top 3</th>\n",
       "      <th>Top 4</th>\n",
       "      <th>Top 5</th>\n",
       "      <th>Top 6</th>\n",
       "      <th>Top 7</th>\n",
       "      <th>Top 8</th>\n",
       "      <th>Top 9</th>\n",
       "      <th>Top 10</th>\n",
       "    </tr>\n",
       "  </thead>\n",
       "  <tbody>\n",
       "    <tr>\n",
       "      <th>1</th>\n",
       "      <td>Silence of the Lambs, The (1991)</td>\n",
       "      <td>Dracula 2000 (2000)</td>\n",
       "      <td>Pet Sematary II (1992)</td>\n",
       "      <td>Them! (1954)</td>\n",
       "      <td>Return of the Living Dead, The (1985)</td>\n",
       "      <td>Firestarter (1984)</td>\n",
       "      <td>Wishmaster (1997)</td>\n",
       "      <td>Grindhouse (2007)</td>\n",
       "      <td>Thirteen Ghosts (a.k.a. Thir13en Ghosts) (2001)</td>\n",
       "      <td>Omen, The (1976)</td>\n",
       "      <td>AVP: Alien vs. Predator (2004)</td>\n",
       "    </tr>\n",
       "    <tr>\n",
       "      <th>2</th>\n",
       "      <td>American Werewolf in London, An (1981)</td>\n",
       "      <td>Dracula 2000 (2000)</td>\n",
       "      <td>Pet Sematary II (1992)</td>\n",
       "      <td>Wishmaster (1997)</td>\n",
       "      <td>Return of the Living Dead, The (1985)</td>\n",
       "      <td>Nightmare on Elm Street 4: The Dream Master, A...</td>\n",
       "      <td>Hidden, The (1987)</td>\n",
       "      <td>Ichi the Killer (Koroshiya 1) (2001)</td>\n",
       "      <td>Grindhouse (2007)</td>\n",
       "      <td>Them! (1954)</td>\n",
       "      <td>Firestarter (1984)</td>\n",
       "    </tr>\n",
       "  </tbody>\n",
       "</table>\n",
       "</div>"
      ],
      "text/plain": [
       "                                    Top_M                Top 1  \\\n",
       "1        Silence of the Lambs, The (1991)  Dracula 2000 (2000)   \n",
       "2  American Werewolf in London, An (1981)  Dracula 2000 (2000)   \n",
       "\n",
       "                    Top 2              Top 3  \\\n",
       "1  Pet Sematary II (1992)       Them! (1954)   \n",
       "2  Pet Sematary II (1992)  Wishmaster (1997)   \n",
       "\n",
       "                                   Top 4  \\\n",
       "1  Return of the Living Dead, The (1985)   \n",
       "2  Return of the Living Dead, The (1985)   \n",
       "\n",
       "                                               Top 5               Top 6  \\\n",
       "1                                 Firestarter (1984)   Wishmaster (1997)   \n",
       "2  Nightmare on Elm Street 4: The Dream Master, A...  Hidden, The (1987)   \n",
       "\n",
       "                                  Top 7  \\\n",
       "1                     Grindhouse (2007)   \n",
       "2  Ichi the Killer (Koroshiya 1) (2001)   \n",
       "\n",
       "                                             Top 8             Top 9  \\\n",
       "1  Thirteen Ghosts (a.k.a. Thir13en Ghosts) (2001)  Omen, The (1976)   \n",
       "2                                Grindhouse (2007)      Them! (1954)   \n",
       "\n",
       "                           Top 10  \n",
       "1  AVP: Alien vs. Predator (2004)  \n",
       "2              Firestarter (1984)  "
      ]
     },
     "execution_count": 55,
     "metadata": {},
     "output_type": "execute_result"
    }
   ],
   "source": [
    "# Bucle para asignar el nombre correcto a cada columna a la matriz de K-neighbors\n",
    "\n",
    "names = []\n",
    "for t in range(int(top_10_mov.columns.values.size)):\n",
    "    temp = \"Top \"+str(top_10_mov.columns[t])\n",
    "    names.append(temp)\n",
    "    \n",
    "temp = np.array(names)\n",
    "temp[0] = \"Top_M\"\n",
    "top_10_mov.columns = temp\n",
    "top_10_mov[:2]"
   ]
  },
  {
   "cell_type": "code",
   "execution_count": 56,
   "metadata": {
    "scrolled": false
   },
   "outputs": [
    {
     "data": {
      "text/html": [
       "<div>\n",
       "<style scoped>\n",
       "    .dataframe tbody tr th:only-of-type {\n",
       "        vertical-align: middle;\n",
       "    }\n",
       "\n",
       "    .dataframe tbody tr th {\n",
       "        vertical-align: top;\n",
       "    }\n",
       "\n",
       "    .dataframe thead th {\n",
       "        text-align: right;\n",
       "    }\n",
       "</style>\n",
       "<table border=\"1\" class=\"dataframe\">\n",
       "  <thead>\n",
       "    <tr style=\"text-align: right;\">\n",
       "      <th></th>\n",
       "      <th>movieId</th>\n",
       "      <th>movieId_DC</th>\n",
       "      <th>title</th>\n",
       "      <th>rating</th>\n",
       "      <th>genres</th>\n",
       "      <th>Adventure</th>\n",
       "      <th>Animation</th>\n",
       "      <th>Action</th>\n",
       "      <th>Thriller</th>\n",
       "      <th>Sci-Fi</th>\n",
       "      <th>...</th>\n",
       "      <th>Top 1</th>\n",
       "      <th>Top 2</th>\n",
       "      <th>Top 3</th>\n",
       "      <th>Top 4</th>\n",
       "      <th>Top 5</th>\n",
       "      <th>Top 6</th>\n",
       "      <th>Top 7</th>\n",
       "      <th>Top 8</th>\n",
       "      <th>Top 9</th>\n",
       "      <th>Top 10</th>\n",
       "    </tr>\n",
       "  </thead>\n",
       "  <tbody>\n",
       "    <tr>\n",
       "      <th>0</th>\n",
       "      <td>593</td>\n",
       "      <td>1</td>\n",
       "      <td>Silence of the Lambs, The (1991)</td>\n",
       "      <td>4.146722</td>\n",
       "      <td>Crime|Horror|Thriller</td>\n",
       "      <td>0</td>\n",
       "      <td>0</td>\n",
       "      <td>0</td>\n",
       "      <td>1</td>\n",
       "      <td>0</td>\n",
       "      <td>...</td>\n",
       "      <td>Dracula 2000 (2000)</td>\n",
       "      <td>Pet Sematary II (1992)</td>\n",
       "      <td>Them! (1954)</td>\n",
       "      <td>Return of the Living Dead, The (1985)</td>\n",
       "      <td>Firestarter (1984)</td>\n",
       "      <td>Wishmaster (1997)</td>\n",
       "      <td>Grindhouse (2007)</td>\n",
       "      <td>Thirteen Ghosts (a.k.a. Thir13en Ghosts) (2001)</td>\n",
       "      <td>Omen, The (1976)</td>\n",
       "      <td>AVP: Alien vs. Predator (2004)</td>\n",
       "    </tr>\n",
       "    <tr>\n",
       "      <th>1</th>\n",
       "      <td>1321</td>\n",
       "      <td>2</td>\n",
       "      <td>American Werewolf in London, An (1981)</td>\n",
       "      <td>3.587643</td>\n",
       "      <td>Comedy|Horror|Thriller</td>\n",
       "      <td>0</td>\n",
       "      <td>0</td>\n",
       "      <td>0</td>\n",
       "      <td>1</td>\n",
       "      <td>0</td>\n",
       "      <td>...</td>\n",
       "      <td>Dracula 2000 (2000)</td>\n",
       "      <td>Pet Sematary II (1992)</td>\n",
       "      <td>Wishmaster (1997)</td>\n",
       "      <td>Return of the Living Dead, The (1985)</td>\n",
       "      <td>Nightmare on Elm Street 4: The Dream Master, A...</td>\n",
       "      <td>Hidden, The (1987)</td>\n",
       "      <td>Ichi the Killer (Koroshiya 1) (2001)</td>\n",
       "      <td>Grindhouse (2007)</td>\n",
       "      <td>Them! (1954)</td>\n",
       "      <td>Firestarter (1984)</td>\n",
       "    </tr>\n",
       "  </tbody>\n",
       "</table>\n",
       "<p>2 rows × 22 columns</p>\n",
       "</div>"
      ],
      "text/plain": [
       "   movieId  movieId_DC                                   title    rating  \\\n",
       "0      593           1        Silence of the Lambs, The (1991)  4.146722   \n",
       "1     1321           2  American Werewolf in London, An (1981)  3.587643   \n",
       "\n",
       "                   genres  Adventure  Animation  Action  Thriller  Sci-Fi  \\\n",
       "0   Crime|Horror|Thriller          0          0       0         1       0   \n",
       "1  Comedy|Horror|Thriller          0          0       0         1       0   \n",
       "\n",
       "   ...                Top 1                   Top 2              Top 3  \\\n",
       "0  ...  Dracula 2000 (2000)  Pet Sematary II (1992)       Them! (1954)   \n",
       "1  ...  Dracula 2000 (2000)  Pet Sematary II (1992)  Wishmaster (1997)   \n",
       "\n",
       "                                   Top 4  \\\n",
       "0  Return of the Living Dead, The (1985)   \n",
       "1  Return of the Living Dead, The (1985)   \n",
       "\n",
       "                                               Top 5               Top 6  \\\n",
       "0                                 Firestarter (1984)   Wishmaster (1997)   \n",
       "1  Nightmare on Elm Street 4: The Dream Master, A...  Hidden, The (1987)   \n",
       "\n",
       "                                  Top 7  \\\n",
       "0                     Grindhouse (2007)   \n",
       "1  Ichi the Killer (Koroshiya 1) (2001)   \n",
       "\n",
       "                                             Top 8             Top 9  \\\n",
       "0  Thirteen Ghosts (a.k.a. Thir13en Ghosts) (2001)  Omen, The (1976)   \n",
       "1                                Grindhouse (2007)      Them! (1954)   \n",
       "\n",
       "                           Top 10  \n",
       "0  AVP: Alien vs. Predator (2004)  \n",
       "1              Firestarter (1984)  \n",
       "\n",
       "[2 rows x 22 columns]"
      ]
     },
     "execution_count": 56,
     "metadata": {},
     "output_type": "execute_result"
    }
   ],
   "source": [
    "# Permite agregar la matriz de los K-neighbors a la base de datos principal\n",
    "\n",
    "subset_k = subset1.drop([\"title\"], axis = 1)\n",
    "df_ratings_k = pd.merge(left = dic_movies_k, right = subset_k, how = \"left\", \n",
    "                        right_on = \"movieId\", left_on = \"movieId\")\n",
    "df_movies_k = pd.merge(left = df_ratings_k, right = top_10_mov, how = \"left\", \n",
    "                        right_on = \"Top_M\", left_on = \"title\")\n",
    "df_movies_k[:2]"
   ]
  },
  {
   "cell_type": "code",
   "execution_count": 57,
   "metadata": {},
   "outputs": [],
   "source": [
    "# Bucle para agregar el campo de \"Age\" y \"Q_Ratings\" a la base de datos principal\n",
    "\n",
    "dates = []\n",
    "for d in range(0,df_movies_k[\"title\"].shape[0]):\n",
    "    date = int(df_movies_k[\"title\"][d][len(df_movies_k[\"title\"][d])-5:len(df_movies_k[\"title\"][d])-1])\n",
    "    dates.append(date)\n",
    "dates = pd.DataFrame(dates)\n",
    "dates.columns = [\"Age\"]\n",
    "df_movies_k = pd.concat([df_movies_k, dates], axis = 1)\n",
    "\n",
    "top_best_views.columns = [\"Q_Ratings\"]\n",
    "df_movies_k = pd.merge(left = df_movies_k, right = top_best_views, how = \"left\", \n",
    "                          right_on = \"movieId\", left_on = \"movieId\")"
   ]
  },
  {
   "cell_type": "code",
   "execution_count": 58,
   "metadata": {
    "scrolled": true
   },
   "outputs": [],
   "source": [
    "# Estiliza nombres de columnas y ordena su posición en el DF\n",
    "df_movies_k.columns = ['Movie_Id', 'Movie_Id_DC', 'Title', 'Rating', 'All_Genres', 'Adventure',\n",
    " 'Animation', 'Action', 'Thriller', 'Sci-Fi', 'Horror', 'Top_Title', \n",
    " 'Top 1', 'Top 2', 'Top 3', 'Top 4', 'Top 5', 'Top 6', 'Top 7', 'Top 8', 'Top 9','Top 10' , 'Age', 'Q_Ratings']\n",
    "cols = ['Movie_Id', 'Movie_Id_DC', 'Title', 'Age', 'Q_Ratings', 'Rating', 'All_Genres', 'Adventure',\n",
    " 'Animation', 'Action', 'Thriller', 'Sci-Fi', 'Horror', 'Top_Title', \n",
    " 'Top 1', 'Top 2', 'Top 3', 'Top 4', 'Top 5', 'Top 6', 'Top 7', 'Top 8', 'Top 9','Top 10']\n",
    "df_movies_k = df_movies_k[cols]"
   ]
  },
  {
   "cell_type": "code",
   "execution_count": 59,
   "metadata": {
    "scrolled": false
   },
   "outputs": [
    {
     "data": {
      "text/html": [
       "<div>\n",
       "<style scoped>\n",
       "    .dataframe tbody tr th:only-of-type {\n",
       "        vertical-align: middle;\n",
       "    }\n",
       "\n",
       "    .dataframe tbody tr th {\n",
       "        vertical-align: top;\n",
       "    }\n",
       "\n",
       "    .dataframe thead th {\n",
       "        text-align: right;\n",
       "    }\n",
       "</style>\n",
       "<table border=\"1\" class=\"dataframe\">\n",
       "  <thead>\n",
       "    <tr style=\"text-align: right;\">\n",
       "      <th></th>\n",
       "      <th>Movie_Id</th>\n",
       "      <th>Movie_Id_DC</th>\n",
       "      <th>Title</th>\n",
       "      <th>Age</th>\n",
       "      <th>Q_Ratings</th>\n",
       "      <th>Rating</th>\n",
       "      <th>All_Genres</th>\n",
       "      <th>Adventure</th>\n",
       "      <th>Animation</th>\n",
       "      <th>Action</th>\n",
       "      <th>...</th>\n",
       "      <th>Top 1</th>\n",
       "      <th>Top 2</th>\n",
       "      <th>Top 3</th>\n",
       "      <th>Top 4</th>\n",
       "      <th>Top 5</th>\n",
       "      <th>Top 6</th>\n",
       "      <th>Top 7</th>\n",
       "      <th>Top 8</th>\n",
       "      <th>Top 9</th>\n",
       "      <th>Top 10</th>\n",
       "    </tr>\n",
       "  </thead>\n",
       "  <tbody>\n",
       "    <tr>\n",
       "      <th>280</th>\n",
       "      <td>56801</td>\n",
       "      <td>281</td>\n",
       "      <td>AVPR: Aliens vs. Predator - Requiem (2007)</td>\n",
       "      <td>2007</td>\n",
       "      <td>1135</td>\n",
       "      <td>2.371661</td>\n",
       "      <td>Action|Horror|Sci-Fi</td>\n",
       "      <td>0</td>\n",
       "      <td>0</td>\n",
       "      <td>1</td>\n",
       "      <td>...</td>\n",
       "      <td>Dracula 2000 (2000)</td>\n",
       "      <td>Pet Sematary II (1992)</td>\n",
       "      <td>Return of the Living Dead, The (1985)</td>\n",
       "      <td>Wishmaster (1997)</td>\n",
       "      <td>Them! (1954)</td>\n",
       "      <td>Firestarter (1984)</td>\n",
       "      <td>Ichi the Killer (Koroshiya 1) (2001)</td>\n",
       "      <td>Grindhouse (2007)</td>\n",
       "      <td>Nightmare on Elm Street 4: The Dream Master, A...</td>\n",
       "      <td>Thirteen Ghosts (a.k.a. Thir13en Ghosts) (2001)</td>\n",
       "    </tr>\n",
       "    <tr>\n",
       "      <th>281</th>\n",
       "      <td>71379</td>\n",
       "      <td>282</td>\n",
       "      <td>Paranormal Activity (2009)</td>\n",
       "      <td>2009</td>\n",
       "      <td>1120</td>\n",
       "      <td>3.111640</td>\n",
       "      <td>Horror|Thriller</td>\n",
       "      <td>0</td>\n",
       "      <td>0</td>\n",
       "      <td>0</td>\n",
       "      <td>...</td>\n",
       "      <td>Dracula 2000 (2000)</td>\n",
       "      <td>Pet Sematary II (1992)</td>\n",
       "      <td>Wishmaster (1997)</td>\n",
       "      <td>Return of the Living Dead, The (1985)</td>\n",
       "      <td>Them! (1954)</td>\n",
       "      <td>Firestarter (1984)</td>\n",
       "      <td>Thirteen Ghosts (a.k.a. Thir13en Ghosts) (2001)</td>\n",
       "      <td>Grindhouse (2007)</td>\n",
       "      <td>Omen, The (1976)</td>\n",
       "      <td>Nightmare on Elm Street 4: The Dream Master, A...</td>\n",
       "    </tr>\n",
       "  </tbody>\n",
       "</table>\n",
       "<p>2 rows × 24 columns</p>\n",
       "</div>"
      ],
      "text/plain": [
       "     Movie_Id  Movie_Id_DC                                       Title   Age  \\\n",
       "280     56801          281  AVPR: Aliens vs. Predator - Requiem (2007)  2007   \n",
       "281     71379          282                  Paranormal Activity (2009)  2009   \n",
       "\n",
       "     Q_Ratings    Rating            All_Genres  Adventure  Animation  Action  \\\n",
       "280       1135  2.371661  Action|Horror|Sci-Fi          0          0       1   \n",
       "281       1120  3.111640       Horror|Thriller          0          0       0   \n",
       "\n",
       "     ...                Top 1                   Top 2  \\\n",
       "280  ...  Dracula 2000 (2000)  Pet Sematary II (1992)   \n",
       "281  ...  Dracula 2000 (2000)  Pet Sematary II (1992)   \n",
       "\n",
       "                                     Top 3  \\\n",
       "280  Return of the Living Dead, The (1985)   \n",
       "281                      Wishmaster (1997)   \n",
       "\n",
       "                                     Top 4         Top 5               Top 6  \\\n",
       "280                      Wishmaster (1997)  Them! (1954)  Firestarter (1984)   \n",
       "281  Return of the Living Dead, The (1985)  Them! (1954)  Firestarter (1984)   \n",
       "\n",
       "                                               Top 7              Top 8  \\\n",
       "280             Ichi the Killer (Koroshiya 1) (2001)  Grindhouse (2007)   \n",
       "281  Thirteen Ghosts (a.k.a. Thir13en Ghosts) (2001)  Grindhouse (2007)   \n",
       "\n",
       "                                                 Top 9  \\\n",
       "280  Nightmare on Elm Street 4: The Dream Master, A...   \n",
       "281                                   Omen, The (1976)   \n",
       "\n",
       "                                                Top 10  \n",
       "280    Thirteen Ghosts (a.k.a. Thir13en Ghosts) (2001)  \n",
       "281  Nightmare on Elm Street 4: The Dream Master, A...  \n",
       "\n",
       "[2 rows x 24 columns]"
      ]
     },
     "execution_count": 59,
     "metadata": {},
     "output_type": "execute_result"
    }
   ],
   "source": [
    "df_movies_k.tail()[:2]"
   ]
  },
  {
   "cell_type": "code",
   "execution_count": 60,
   "metadata": {},
   "outputs": [],
   "source": [
    "df_movies_k.to_excel(\"../datasets/Movies 20M/Reports/df_movies_k_neighbors (gn1 - gn2).xlsx\")"
   ]
  },
  {
   "cell_type": "markdown",
   "metadata": {},
   "source": [
    "### Union de matrices de recomendación con base de datos principal"
   ]
  },
  {
   "cell_type": "code",
   "execution_count": 61,
   "metadata": {
    "scrolled": true
   },
   "outputs": [
    {
     "data": {
      "text/html": [
       "<div>\n",
       "<style scoped>\n",
       "    .dataframe tbody tr th:only-of-type {\n",
       "        vertical-align: middle;\n",
       "    }\n",
       "\n",
       "    .dataframe tbody tr th {\n",
       "        vertical-align: top;\n",
       "    }\n",
       "\n",
       "    .dataframe thead th {\n",
       "        text-align: right;\n",
       "    }\n",
       "</style>\n",
       "<table border=\"1\" class=\"dataframe\">\n",
       "  <thead>\n",
       "    <tr style=\"text-align: right;\">\n",
       "      <th></th>\n",
       "      <th>MovieId</th>\n",
       "      <th>Title</th>\n",
       "      <th>Age</th>\n",
       "      <th>Q_Ratings</th>\n",
       "      <th>Rating</th>\n",
       "      <th>All_Genres</th>\n",
       "      <th>Genres</th>\n",
       "    </tr>\n",
       "  </thead>\n",
       "  <tbody>\n",
       "    <tr>\n",
       "      <th>0</th>\n",
       "      <td>318</td>\n",
       "      <td>Shawshank Redemption, The (1994)</td>\n",
       "      <td>1994</td>\n",
       "      <td>63366</td>\n",
       "      <td>4.409557</td>\n",
       "      <td>Crime|Drama</td>\n",
       "      <td>Drama</td>\n",
       "    </tr>\n",
       "    <tr>\n",
       "      <th>1</th>\n",
       "      <td>858</td>\n",
       "      <td>Godfather, The (1972)</td>\n",
       "      <td>1972</td>\n",
       "      <td>41355</td>\n",
       "      <td>4.369970</td>\n",
       "      <td>Crime|Drama</td>\n",
       "      <td>Drama</td>\n",
       "    </tr>\n",
       "    <tr>\n",
       "      <th>2</th>\n",
       "      <td>50</td>\n",
       "      <td>Usual Suspects, The (1995)</td>\n",
       "      <td>1995</td>\n",
       "      <td>47006</td>\n",
       "      <td>4.321375</td>\n",
       "      <td>Crime|Mystery|Thriller</td>\n",
       "      <td>Thriller</td>\n",
       "    </tr>\n",
       "  </tbody>\n",
       "</table>\n",
       "</div>"
      ],
      "text/plain": [
       "   MovieId                             Title   Age  Q_Ratings    Rating  \\\n",
       "0      318  Shawshank Redemption, The (1994)  1994      63366  4.409557   \n",
       "1      858             Godfather, The (1972)  1972      41355  4.369970   \n",
       "2       50        Usual Suspects, The (1995)  1995      47006  4.321375   \n",
       "\n",
       "               All_Genres    Genres  \n",
       "0             Crime|Drama     Drama  \n",
       "1             Crime|Drama     Drama  \n",
       "2  Crime|Mystery|Thriller  Thriller  "
      ]
     },
     "execution_count": 61,
     "metadata": {},
     "output_type": "execute_result"
    }
   ],
   "source": [
    "## Base de datos principal\n",
    "\n",
    "df_plotly =pd.read_excel(\"../datasets/Movies 20M/Reports/df_movies_tg (plotly).xlsx\")\n",
    "df_plotly[:3]"
   ]
  },
  {
   "cell_type": "code",
   "execution_count": 62,
   "metadata": {},
   "outputs": [],
   "source": [
    "# Carga de datasets con matrices de recomendación ya generadas\n",
    "\n",
    "df_plotly_thr_sci =pd.read_excel(\"../datasets/Movies 20M/Reports/Metric Minkowski/df_movies_k_neighbors_minkowski (Thriller - Sci-Fi).xlsx\")\n",
    "df_plotly_adv_ani_act =pd.read_excel(\"../datasets/Movies 20M/Reports/Metric Minkowski/df_movies_k_neighbors_minkowski (Adventure - Animation - Action).xlsx\")\n",
    "df_plotly_dra =pd.read_excel(\"../datasets/Movies 20M/Reports/Metric Minkowski/df_movies_k_neighbors_minkowski (Drama).xlsx\")\n",
    "df_plotly_com =pd.read_excel(\"../datasets/Movies 20M/Reports/Metric Minkowski/df_movies_k_neighbors_minkowski (Comedy).xlsx\")\n",
    "df_plotly_hor =pd.read_excel(\"../datasets/Movies 20M/Reports/Metric Minkowski/df_movies_k_neighbors_minkowski (Horror).xlsx\")"
   ]
  },
  {
   "cell_type": "code",
   "execution_count": 63,
   "metadata": {},
   "outputs": [],
   "source": [
    "# Seleccionamos solo los campos que utilizaremos de los datasets con matrices\n",
    "\n",
    "desired_col_plotly = ['Movie_Id', 'Top_Title', 'Top 1', 'Top 2', 'Top 3', 'Top 4', 'Top 5', 'Top 6', 'Top 7', 'Top 8', 'Top 9','Top 10' ]\n",
    "df_plotly_thr_sci = df_plotly_thr_sci[desired_col_plotly]\n",
    "df_plotly_adv_ani_act = df_plotly_adv_ani_act[desired_col_plotly]\n",
    "df_plotly_dra = df_plotly_dra[desired_col_plotly]\n",
    "df_plotly_com = df_plotly_com[desired_col_plotly]\n",
    "df_plotly_hor = df_plotly_hor[desired_col_plotly]"
   ]
  },
  {
   "cell_type": "code",
   "execution_count": 64,
   "metadata": {},
   "outputs": [],
   "source": [
    "# Unimos a la base de datos principal la primera matriz de crecomendación y dejamos el resto de la \n",
    " #información (\"df_plotly_PEN\") para unirlo con la siguiente matriz, y repetimos el proceso con todas las matrices.\n",
    "\n",
    "df_plotly_MT = pd.merge(left = df_plotly, right = df_plotly_thr_sci, how = \"left\", \n",
    "                         right_on = \"Movie_Id\", left_on = \"MovieId\")"
   ]
  },
  {
   "cell_type": "code",
   "execution_count": 65,
   "metadata": {},
   "outputs": [
    {
     "name": "stdout",
     "output_type": "stream",
     "text": [
      "(3159, 18) (1032, 18)\n"
     ]
    },
    {
     "data": {
      "text/html": [
       "<div>\n",
       "<style scoped>\n",
       "    .dataframe tbody tr th:only-of-type {\n",
       "        vertical-align: middle;\n",
       "    }\n",
       "\n",
       "    .dataframe tbody tr th {\n",
       "        vertical-align: top;\n",
       "    }\n",
       "\n",
       "    .dataframe thead th {\n",
       "        text-align: right;\n",
       "    }\n",
       "</style>\n",
       "<table border=\"1\" class=\"dataframe\">\n",
       "  <thead>\n",
       "    <tr style=\"text-align: right;\">\n",
       "      <th></th>\n",
       "      <th>MovieId</th>\n",
       "      <th>Title</th>\n",
       "      <th>Age</th>\n",
       "      <th>Q_Ratings</th>\n",
       "      <th>Rating</th>\n",
       "      <th>All_Genres</th>\n",
       "      <th>Genres</th>\n",
       "      <th>Top_Title</th>\n",
       "      <th>Top 1</th>\n",
       "      <th>Top 2</th>\n",
       "      <th>Top 3</th>\n",
       "      <th>Top 4</th>\n",
       "      <th>Top 5</th>\n",
       "      <th>Top 6</th>\n",
       "      <th>Top 7</th>\n",
       "      <th>Top 8</th>\n",
       "      <th>Top 9</th>\n",
       "      <th>Top 10</th>\n",
       "    </tr>\n",
       "  </thead>\n",
       "  <tbody>\n",
       "    <tr>\n",
       "      <th>2</th>\n",
       "      <td>50</td>\n",
       "      <td>Usual Suspects, The (1995)</td>\n",
       "      <td>1995</td>\n",
       "      <td>47006</td>\n",
       "      <td>4.321375</td>\n",
       "      <td>Crime|Mystery|Thriller</td>\n",
       "      <td>Thriller</td>\n",
       "      <td>Usual Suspects, The (1995)</td>\n",
       "      <td>Surrogates (2009)</td>\n",
       "      <td>Way of the Gun, The (2000)</td>\n",
       "      <td>Some Folks Call It a Sling Blade (1993)</td>\n",
       "      <td>Flightplan (2005)</td>\n",
       "      <td>Paul (2011)</td>\n",
       "      <td>Charlie's Angels: Full Throttle (2003)</td>\n",
       "      <td>Barton Fink (1991)</td>\n",
       "      <td>Twelve Monkeys (a.k.a. 12 Monkeys) (1995)</td>\n",
       "      <td>Recruit, The (2003)</td>\n",
       "      <td>Pan's Labyrinth (Laberinto del fauno, El) (2006)</td>\n",
       "    </tr>\n",
       "  </tbody>\n",
       "</table>\n",
       "</div>"
      ],
      "text/plain": [
       "   MovieId                       Title   Age  Q_Ratings    Rating  \\\n",
       "2       50  Usual Suspects, The (1995)  1995      47006  4.321375   \n",
       "\n",
       "               All_Genres    Genres                   Top_Title  \\\n",
       "2  Crime|Mystery|Thriller  Thriller  Usual Suspects, The (1995)   \n",
       "\n",
       "               Top 1                       Top 2  \\\n",
       "2  Surrogates (2009)  Way of the Gun, The (2000)   \n",
       "\n",
       "                                     Top 3              Top 4        Top 5  \\\n",
       "2  Some Folks Call It a Sling Blade (1993)  Flightplan (2005)  Paul (2011)   \n",
       "\n",
       "                                    Top 6               Top 7  \\\n",
       "2  Charlie's Angels: Full Throttle (2003)  Barton Fink (1991)   \n",
       "\n",
       "                                       Top 8                Top 9  \\\n",
       "2  Twelve Monkeys (a.k.a. 12 Monkeys) (1995)  Recruit, The (2003)   \n",
       "\n",
       "                                             Top 10  \n",
       "2  Pan's Labyrinth (Laberinto del fauno, El) (2006)  "
      ]
     },
     "execution_count": 65,
     "metadata": {},
     "output_type": "execute_result"
    }
   ],
   "source": [
    "df_plotly_MT = df_plotly_MT.drop([\"Movie_Id\"], axis = 1)\n",
    "df_plotly_MTF = df_plotly_MT.dropna(axis=0, how='any')\n",
    "print(df_plotly_MT.shape, df_plotly_MTF.shape)\n",
    "df_plotly_MTF[:1]"
   ]
  },
  {
   "cell_type": "code",
   "execution_count": 66,
   "metadata": {
    "scrolled": true
   },
   "outputs": [],
   "source": [
    "df_plotly_TEMP=df_plotly_MT.fillna(0)\n",
    "df_plotly_PEN=df_plotly_TEMP[(df_plotly_TEMP[\"Top_Title\"]==0)]\n",
    "dup_columns= ['Top_Title', 'Top 1', 'Top 2', 'Top 3', 'Top 4', 'Top 5', 'Top 6', 'Top 7', 'Top 8', 'Top 9','Top 10']\n",
    "df_plotly_PEN = df_plotly_PEN.drop(dup_columns, axis = 1)"
   ]
  },
  {
   "cell_type": "code",
   "execution_count": 67,
   "metadata": {
    "scrolled": true
   },
   "outputs": [
    {
     "data": {
      "text/plain": [
       "((2127, 7), (2127, 19))"
      ]
     },
     "execution_count": 67,
     "metadata": {},
     "output_type": "execute_result"
    }
   ],
   "source": [
    "df_plotly_MT1 = pd.merge(left = df_plotly_PEN, right = df_plotly_adv_ani_act, how = \"left\", \n",
    "                         right_on = \"Movie_Id\", left_on = \"MovieId\")\n",
    "df_plotly_PEN.shape, df_plotly_MT1.shape"
   ]
  },
  {
   "cell_type": "code",
   "execution_count": 68,
   "metadata": {
    "scrolled": true
   },
   "outputs": [
    {
     "name": "stdout",
     "output_type": "stream",
     "text": [
      "(544, 18)\n"
     ]
    },
    {
     "data": {
      "text/html": [
       "<div>\n",
       "<style scoped>\n",
       "    .dataframe tbody tr th:only-of-type {\n",
       "        vertical-align: middle;\n",
       "    }\n",
       "\n",
       "    .dataframe tbody tr th {\n",
       "        vertical-align: top;\n",
       "    }\n",
       "\n",
       "    .dataframe thead th {\n",
       "        text-align: right;\n",
       "    }\n",
       "</style>\n",
       "<table border=\"1\" class=\"dataframe\">\n",
       "  <thead>\n",
       "    <tr style=\"text-align: right;\">\n",
       "      <th></th>\n",
       "      <th>MovieId</th>\n",
       "      <th>Title</th>\n",
       "      <th>Age</th>\n",
       "      <th>Q_Ratings</th>\n",
       "      <th>Rating</th>\n",
       "      <th>All_Genres</th>\n",
       "      <th>Genres</th>\n",
       "      <th>Top_Title</th>\n",
       "      <th>Top 1</th>\n",
       "      <th>Top 2</th>\n",
       "      <th>Top 3</th>\n",
       "      <th>Top 4</th>\n",
       "      <th>Top 5</th>\n",
       "      <th>Top 6</th>\n",
       "      <th>Top 7</th>\n",
       "      <th>Top 8</th>\n",
       "      <th>Top 9</th>\n",
       "      <th>Top 10</th>\n",
       "    </tr>\n",
       "  </thead>\n",
       "  <tbody>\n",
       "    <tr>\n",
       "      <th>2</th>\n",
       "      <td>7502</td>\n",
       "      <td>Band of Brothers (2001)</td>\n",
       "      <td>2001</td>\n",
       "      <td>4305</td>\n",
       "      <td>4.309682</td>\n",
       "      <td>Action|Drama|War</td>\n",
       "      <td>Action</td>\n",
       "      <td>Band of Brothers (2001)</td>\n",
       "      <td>Peter Pan (2003)</td>\n",
       "      <td>Metropolis (2001)</td>\n",
       "      <td>Borrowers, The (1997)</td>\n",
       "      <td>Ghost and the Darkness, The (1996)</td>\n",
       "      <td>Sahara (2005)</td>\n",
       "      <td>End of Days (1999)</td>\n",
       "      <td>Around the World in 80 Days (1956)</td>\n",
       "      <td>Stardust (2007)</td>\n",
       "      <td>Futurama: Bender's Big Score (2007)</td>\n",
       "      <td>Atlantis: The Lost Empire (2001)</td>\n",
       "    </tr>\n",
       "  </tbody>\n",
       "</table>\n",
       "</div>"
      ],
      "text/plain": [
       "   MovieId                    Title   Age  Q_Ratings    Rating  \\\n",
       "2     7502  Band of Brothers (2001)  2001       4305  4.309682   \n",
       "\n",
       "         All_Genres  Genres                Top_Title             Top 1  \\\n",
       "2  Action|Drama|War  Action  Band of Brothers (2001)  Peter Pan (2003)   \n",
       "\n",
       "               Top 2                  Top 3  \\\n",
       "2  Metropolis (2001)  Borrowers, The (1997)   \n",
       "\n",
       "                                Top 4          Top 5               Top 6  \\\n",
       "2  Ghost and the Darkness, The (1996)  Sahara (2005)  End of Days (1999)   \n",
       "\n",
       "                                Top 7            Top 8  \\\n",
       "2  Around the World in 80 Days (1956)  Stardust (2007)   \n",
       "\n",
       "                                 Top 9                            Top 10  \n",
       "2  Futurama: Bender's Big Score (2007)  Atlantis: The Lost Empire (2001)  "
      ]
     },
     "execution_count": 68,
     "metadata": {},
     "output_type": "execute_result"
    }
   ],
   "source": [
    "df_plotly_MT1 = df_plotly_MT1.drop([\"Movie_Id\"], axis = 1)\n",
    "df_plotly_MTD = df_plotly_MT1.dropna(axis=0, how='any')\n",
    "print(df_plotly_MTD.shape)\n",
    "df_plotly_MTD[:1]"
   ]
  },
  {
   "cell_type": "code",
   "execution_count": 69,
   "metadata": {},
   "outputs": [],
   "source": [
    "df_plotly_TEMP=df_plotly_MT1.fillna(0)\n",
    "df_plotly_PEN=df_plotly_TEMP[(df_plotly_TEMP[\"Top_Title\"]==0)]\n",
    "dup_columns= ['Top_Title', 'Top 1', 'Top 2', 'Top 3', 'Top 4', 'Top 5', 'Top 6', 'Top 7', 'Top 8', 'Top 9','Top 10']\n",
    "df_plotly_PEN = df_plotly_PEN.drop(dup_columns, axis = 1)"
   ]
  },
  {
   "cell_type": "code",
   "execution_count": 70,
   "metadata": {},
   "outputs": [
    {
     "data": {
      "text/plain": [
       "((1583, 7), (1583, 19))"
      ]
     },
     "execution_count": 70,
     "metadata": {},
     "output_type": "execute_result"
    }
   ],
   "source": [
    "df_plotly_MT2 = pd.merge(left = df_plotly_PEN, right = df_plotly_dra, how = \"left\", \n",
    "                         right_on = \"Movie_Id\", left_on = \"MovieId\")\n",
    "df_plotly_PEN.shape, df_plotly_MT2.shape"
   ]
  },
  {
   "cell_type": "code",
   "execution_count": 71,
   "metadata": {},
   "outputs": [
    {
     "name": "stdout",
     "output_type": "stream",
     "text": [
      "(914, 18)\n"
     ]
    },
    {
     "data": {
      "text/html": [
       "<div>\n",
       "<style scoped>\n",
       "    .dataframe tbody tr th:only-of-type {\n",
       "        vertical-align: middle;\n",
       "    }\n",
       "\n",
       "    .dataframe tbody tr th {\n",
       "        vertical-align: top;\n",
       "    }\n",
       "\n",
       "    .dataframe thead th {\n",
       "        text-align: right;\n",
       "    }\n",
       "</style>\n",
       "<table border=\"1\" class=\"dataframe\">\n",
       "  <thead>\n",
       "    <tr style=\"text-align: right;\">\n",
       "      <th></th>\n",
       "      <th>MovieId</th>\n",
       "      <th>Title</th>\n",
       "      <th>Age</th>\n",
       "      <th>Q_Ratings</th>\n",
       "      <th>Rating</th>\n",
       "      <th>All_Genres</th>\n",
       "      <th>Genres</th>\n",
       "      <th>Top_Title</th>\n",
       "      <th>Top 1</th>\n",
       "      <th>Top 2</th>\n",
       "      <th>Top 3</th>\n",
       "      <th>Top 4</th>\n",
       "      <th>Top 5</th>\n",
       "      <th>Top 6</th>\n",
       "      <th>Top 7</th>\n",
       "      <th>Top 8</th>\n",
       "      <th>Top 9</th>\n",
       "      <th>Top 10</th>\n",
       "    </tr>\n",
       "  </thead>\n",
       "  <tbody>\n",
       "    <tr>\n",
       "      <th>0</th>\n",
       "      <td>318</td>\n",
       "      <td>Shawshank Redemption, The (1994)</td>\n",
       "      <td>1994</td>\n",
       "      <td>63366</td>\n",
       "      <td>4.409557</td>\n",
       "      <td>Crime|Drama</td>\n",
       "      <td>Drama</td>\n",
       "      <td>Shawshank Redemption, The (1994)</td>\n",
       "      <td>Beyond Rangoon (1995)</td>\n",
       "      <td>Lake House, The (2006)</td>\n",
       "      <td>K-19: The Widowmaker (2002)</td>\n",
       "      <td>12 Years a Slave (2013)</td>\n",
       "      <td>Rope (1948)</td>\n",
       "      <td>Spider (2002)</td>\n",
       "      <td>Apartment, The (1960)</td>\n",
       "      <td>Mermaids (1990)</td>\n",
       "      <td>Waking Life (2001)</td>\n",
       "      <td>Under the Tuscan Sun (2003)</td>\n",
       "    </tr>\n",
       "  </tbody>\n",
       "</table>\n",
       "</div>"
      ],
      "text/plain": [
       "   MovieId                             Title   Age  Q_Ratings    Rating  \\\n",
       "0      318  Shawshank Redemption, The (1994)  1994      63366  4.409557   \n",
       "\n",
       "    All_Genres Genres                         Top_Title  \\\n",
       "0  Crime|Drama  Drama  Shawshank Redemption, The (1994)   \n",
       "\n",
       "                   Top 1                   Top 2                        Top 3  \\\n",
       "0  Beyond Rangoon (1995)  Lake House, The (2006)  K-19: The Widowmaker (2002)   \n",
       "\n",
       "                     Top 4        Top 5          Top 6                  Top 7  \\\n",
       "0  12 Years a Slave (2013)  Rope (1948)  Spider (2002)  Apartment, The (1960)   \n",
       "\n",
       "             Top 8               Top 9                       Top 10  \n",
       "0  Mermaids (1990)  Waking Life (2001)  Under the Tuscan Sun (2003)  "
      ]
     },
     "execution_count": 71,
     "metadata": {},
     "output_type": "execute_result"
    }
   ],
   "source": [
    "df_plotly_MT2 = df_plotly_MT2.drop([\"Movie_Id\"], axis = 1)\n",
    "df_plotly_MTD1 = df_plotly_MT2.dropna(axis=0, how='any')\n",
    "print(df_plotly_MTD1.shape)\n",
    "df_plotly_MTD1[:1]"
   ]
  },
  {
   "cell_type": "code",
   "execution_count": 72,
   "metadata": {},
   "outputs": [],
   "source": [
    "df_plotly_TEMP=df_plotly_MT2.fillna(0)\n",
    "df_plotly_PEN=df_plotly_TEMP[(df_plotly_TEMP[\"Top_Title\"]==0)]\n",
    "dup_columns= ['Top_Title', 'Top 1', 'Top 2', 'Top 3', 'Top 4', 'Top 5', 'Top 6', 'Top 7', 'Top 8', 'Top 9','Top 10']\n",
    "df_plotly_PEN = df_plotly_PEN.drop(dup_columns, axis = 1)"
   ]
  },
  {
   "cell_type": "code",
   "execution_count": 73,
   "metadata": {},
   "outputs": [
    {
     "data": {
      "text/plain": [
       "((669, 7), (669, 19))"
      ]
     },
     "execution_count": 73,
     "metadata": {},
     "output_type": "execute_result"
    }
   ],
   "source": [
    "df_plotly_MT3 = pd.merge(left = df_plotly_PEN, right = df_plotly_com, how = \"left\", \n",
    "                         right_on = \"Movie_Id\", left_on = \"MovieId\")\n",
    "df_plotly_PEN.shape, df_plotly_MT3.shape"
   ]
  },
  {
   "cell_type": "code",
   "execution_count": 74,
   "metadata": {
    "scrolled": false
   },
   "outputs": [
    {
     "name": "stdout",
     "output_type": "stream",
     "text": [
      "(551, 18)\n"
     ]
    },
    {
     "data": {
      "text/html": [
       "<div>\n",
       "<style scoped>\n",
       "    .dataframe tbody tr th:only-of-type {\n",
       "        vertical-align: middle;\n",
       "    }\n",
       "\n",
       "    .dataframe tbody tr th {\n",
       "        vertical-align: top;\n",
       "    }\n",
       "\n",
       "    .dataframe thead th {\n",
       "        text-align: right;\n",
       "    }\n",
       "</style>\n",
       "<table border=\"1\" class=\"dataframe\">\n",
       "  <thead>\n",
       "    <tr style=\"text-align: right;\">\n",
       "      <th></th>\n",
       "      <th>MovieId</th>\n",
       "      <th>Title</th>\n",
       "      <th>Age</th>\n",
       "      <th>Q_Ratings</th>\n",
       "      <th>Rating</th>\n",
       "      <th>All_Genres</th>\n",
       "      <th>Genres</th>\n",
       "      <th>Top_Title</th>\n",
       "      <th>Top 1</th>\n",
       "      <th>Top 2</th>\n",
       "      <th>Top 3</th>\n",
       "      <th>Top 4</th>\n",
       "      <th>Top 5</th>\n",
       "      <th>Top 6</th>\n",
       "      <th>Top 7</th>\n",
       "      <th>Top 8</th>\n",
       "      <th>Top 9</th>\n",
       "      <th>Top 10</th>\n",
       "    </tr>\n",
       "  </thead>\n",
       "  <tbody>\n",
       "    <tr>\n",
       "      <th>0</th>\n",
       "      <td>750</td>\n",
       "      <td>Dr. Strangelove or: How I Learned to Stop Worr...</td>\n",
       "      <td>1964</td>\n",
       "      <td>23220</td>\n",
       "      <td>4.239462</td>\n",
       "      <td>Comedy|War</td>\n",
       "      <td>Comedy</td>\n",
       "      <td>Dr. Strangelove or: How I Learned to Stop Worr...</td>\n",
       "      <td>Blank Check (1994)</td>\n",
       "      <td>Cabin Boy (1994)</td>\n",
       "      <td>Kung Pow: Enter the Fist (2002)</td>\n",
       "      <td>Last Boy Scout, The (1991)</td>\n",
       "      <td>Pecker (1998)</td>\n",
       "      <td>Apple Dumpling Gang, The (1975)</td>\n",
       "      <td>Porco Rosso (Crimson Pig) (Kurenai no buta) (1...</td>\n",
       "      <td>Paper Moon (1973)</td>\n",
       "      <td>Innerspace (1987)</td>\n",
       "      <td>Flintstones in Viva Rock Vegas, The (2000)</td>\n",
       "    </tr>\n",
       "  </tbody>\n",
       "</table>\n",
       "</div>"
      ],
      "text/plain": [
       "   MovieId                                              Title   Age  \\\n",
       "0      750  Dr. Strangelove or: How I Learned to Stop Worr...  1964   \n",
       "\n",
       "   Q_Ratings    Rating  All_Genres  Genres  \\\n",
       "0      23220  4.239462  Comedy|War  Comedy   \n",
       "\n",
       "                                           Top_Title               Top 1  \\\n",
       "0  Dr. Strangelove or: How I Learned to Stop Worr...  Blank Check (1994)   \n",
       "\n",
       "              Top 2                            Top 3  \\\n",
       "0  Cabin Boy (1994)  Kung Pow: Enter the Fist (2002)   \n",
       "\n",
       "                        Top 4          Top 5                            Top 6  \\\n",
       "0  Last Boy Scout, The (1991)  Pecker (1998)  Apple Dumpling Gang, The (1975)   \n",
       "\n",
       "                                               Top 7              Top 8  \\\n",
       "0  Porco Rosso (Crimson Pig) (Kurenai no buta) (1...  Paper Moon (1973)   \n",
       "\n",
       "               Top 9                                      Top 10  \n",
       "0  Innerspace (1987)  Flintstones in Viva Rock Vegas, The (2000)  "
      ]
     },
     "execution_count": 74,
     "metadata": {},
     "output_type": "execute_result"
    }
   ],
   "source": [
    "df_plotly_MT3 = df_plotly_MT3.drop([\"Movie_Id\"], axis = 1)\n",
    "df_plotly_MTD2 = df_plotly_MT3.dropna(axis=0, how='any') \n",
    "print(df_plotly_MTD2.shape)\n",
    "df_plotly_MTD2[:1]"
   ]
  },
  {
   "cell_type": "code",
   "execution_count": 75,
   "metadata": {},
   "outputs": [],
   "source": [
    "df_plotly_TEMP=df_plotly_MT3.fillna(0)\n",
    "df_plotly_PEN=df_plotly_TEMP[(df_plotly_TEMP[\"Top_Title\"]==0)]\n",
    "dup_columns= ['Top_Title', 'Top 1', 'Top 2', 'Top 3', 'Top 4', 'Top 5', 'Top 6', 'Top 7', 'Top 8', 'Top 9','Top 10']\n",
    "df_plotly_PEN = df_plotly_PEN.drop(dup_columns, axis = 1)"
   ]
  },
  {
   "cell_type": "code",
   "execution_count": 76,
   "metadata": {},
   "outputs": [
    {
     "name": "stdout",
     "output_type": "stream",
     "text": [
      "(118, 7) (118, 18)\n"
     ]
    },
    {
     "data": {
      "text/html": [
       "<div>\n",
       "<style scoped>\n",
       "    .dataframe tbody tr th:only-of-type {\n",
       "        vertical-align: middle;\n",
       "    }\n",
       "\n",
       "    .dataframe tbody tr th {\n",
       "        vertical-align: top;\n",
       "    }\n",
       "\n",
       "    .dataframe thead th {\n",
       "        text-align: right;\n",
       "    }\n",
       "</style>\n",
       "<table border=\"1\" class=\"dataframe\">\n",
       "  <thead>\n",
       "    <tr style=\"text-align: right;\">\n",
       "      <th></th>\n",
       "      <th>MovieId</th>\n",
       "      <th>Title</th>\n",
       "      <th>Age</th>\n",
       "      <th>Q_Ratings</th>\n",
       "      <th>Rating</th>\n",
       "      <th>All_Genres</th>\n",
       "      <th>Genres</th>\n",
       "      <th>Top_Title</th>\n",
       "      <th>Top 1</th>\n",
       "      <th>Top 2</th>\n",
       "      <th>Top 3</th>\n",
       "      <th>Top 4</th>\n",
       "      <th>Top 5</th>\n",
       "      <th>Top 6</th>\n",
       "      <th>Top 7</th>\n",
       "      <th>Top 8</th>\n",
       "      <th>Top 9</th>\n",
       "      <th>Top 10</th>\n",
       "    </tr>\n",
       "  </thead>\n",
       "  <tbody>\n",
       "    <tr>\n",
       "      <th>0</th>\n",
       "      <td>913</td>\n",
       "      <td>Maltese Falcon, The (1941)</td>\n",
       "      <td>1941</td>\n",
       "      <td>12144</td>\n",
       "      <td>4.184282</td>\n",
       "      <td>Film-Noir|Mystery</td>\n",
       "      <td>Mystery</td>\n",
       "      <td>NaN</td>\n",
       "      <td>NaN</td>\n",
       "      <td>NaN</td>\n",
       "      <td>NaN</td>\n",
       "      <td>NaN</td>\n",
       "      <td>NaN</td>\n",
       "      <td>NaN</td>\n",
       "      <td>NaN</td>\n",
       "      <td>NaN</td>\n",
       "      <td>NaN</td>\n",
       "      <td>NaN</td>\n",
       "    </tr>\n",
       "  </tbody>\n",
       "</table>\n",
       "</div>"
      ],
      "text/plain": [
       "   MovieId                       Title   Age  Q_Ratings    Rating  \\\n",
       "0      913  Maltese Falcon, The (1941)  1941      12144  4.184282   \n",
       "\n",
       "          All_Genres   Genres Top_Title Top 1 Top 2 Top 3 Top 4 Top 5 Top 6  \\\n",
       "0  Film-Noir|Mystery  Mystery       NaN   NaN   NaN   NaN   NaN   NaN   NaN   \n",
       "\n",
       "  Top 7 Top 8 Top 9 Top 10  \n",
       "0   NaN   NaN   NaN    NaN  "
      ]
     },
     "execution_count": 76,
     "metadata": {},
     "output_type": "execute_result"
    }
   ],
   "source": [
    "df_plotly_MTD3 = pd.merge(left = df_plotly_PEN, right = df_plotly_hor, how = \"left\", \n",
    "                         right_on = \"Movie_Id\", left_on = \"MovieId\")\n",
    "df_plotly_MTD3 = df_plotly_MTD3.drop([\"Movie_Id\"], axis = 1)\n",
    "print(df_plotly_PEN.shape, df_plotly_MTD3.shape)\n",
    "df_plotly_MTD3[:1]"
   ]
  },
  {
   "cell_type": "code",
   "execution_count": 77,
   "metadata": {
    "scrolled": false
   },
   "outputs": [
    {
     "data": {
      "text/plain": [
       "3159"
      ]
     },
     "execution_count": 77,
     "metadata": {},
     "output_type": "execute_result"
    }
   ],
   "source": [
    "# Revisamos que el total concuerde con la dimensión de nuestra base de datos principal:\n",
    "\n",
    "df_plotly_MTF.shape[0] + df_plotly_MTD.shape[0] + df_plotly_MTD1.shape[0]+ df_plotly_MTD2.shape[0] + df_plotly_MTD3.shape[0]"
   ]
  },
  {
   "cell_type": "code",
   "execution_count": 78,
   "metadata": {
    "scrolled": true
   },
   "outputs": [
    {
     "data": {
      "text/plain": [
       "((1032, 18), (544, 18), (914, 18), (551, 18), (118, 18))"
      ]
     },
     "execution_count": 78,
     "metadata": {},
     "output_type": "execute_result"
    }
   ],
   "source": [
    "# Validamos que todos los sub datasets generados tengan el formato correcto:\n",
    "\n",
    "df_plotly_MTF.shape, df_plotly_MTD.shape, df_plotly_MTD1.shape, df_plotly_MTD2.shape,  df_plotly_MTD3.shape"
   ]
  },
  {
   "cell_type": "code",
   "execution_count": 79,
   "metadata": {
    "scrolled": false
   },
   "outputs": [
    {
     "data": {
      "text/plain": [
       "3159"
      ]
     },
     "execution_count": 79,
     "metadata": {},
     "output_type": "execute_result"
    }
   ],
   "source": [
    "df_plotly_MTF_EXP = pd.concat([df_plotly_MTF, df_plotly_MTD, df_plotly_MTD1, df_plotly_MTD2, df_plotly_MTD3], axis = 0)\n",
    "df_plotly_MTF_EXP.shape[0]"
   ]
  },
  {
   "cell_type": "code",
   "execution_count": 80,
   "metadata": {},
   "outputs": [],
   "source": [
    "# Exportamos nuestra base de datos final en formato \"csv\" (ojo que el formato \"xlsx\" exporta los datos con errores)\n",
    "\n",
    "df_plotly_MTF_EXP.to_csv(\"../datasets/Movies 20M/Reports/df_plotly_MTF_EXPORT.csv\")"
   ]
  }
 ],
 "metadata": {
  "kernelspec": {
   "display_name": "Python 3",
   "language": "python",
   "name": "python3"
  },
  "language_info": {
   "codemirror_mode": {
    "name": "ipython",
    "version": 3
   },
   "file_extension": ".py",
   "mimetype": "text/x-python",
   "name": "python",
   "nbconvert_exporter": "python",
   "pygments_lexer": "ipython3",
   "version": "3.7.3"
  }
 },
 "nbformat": 4,
 "nbformat_minor": 2
}
