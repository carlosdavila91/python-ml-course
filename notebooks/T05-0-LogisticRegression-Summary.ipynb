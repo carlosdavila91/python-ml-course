{
 "cells": [
  {
   "cell_type": "markdown",
   "metadata": {},
   "source": [
    "# Logistic Regression Summary"
   ]
  },
  {
   "cell_type": "markdown",
   "metadata": {},
   "source": [
    "* La regresión logística sirve para **predecir variables binarias**\n",
    "* El cociente de probabilidades crece cuanto más probable es que ocurra el suceso\n",
    "* La regresión logística se modela mediante la siguiente expresión\n",
    "\n",
    "$ln(\\frac{P}{1-P}) = \\alpha + \\sum_{i=1}^k \\beta_i \\cdot x_i$\n",
    "\n",
    "* PAra estimar los coeficientes usamos la técnica de máxima verosimilitud y el algoritmo de Newton-Raphson\n",
    "* En el contraste de hipótesis, cuanto menor es el p-valor asociado a cada variable, más significativa es esta en el modelo\n",
    "* Se puede validar el modelo con la técnica de k-fold Cross Validation\n",
    "* Marcar el umbral de decisión del modelo afecta a su eficiencia y sensibilidad\n",
    "    * Si el modelo nos devuelve una probabilidad superior al umbral que hemos marcado, marcamos los valores superiores a este como éxito y los inferiores como fracaso\n",
    "    * Para ello nos ayudamos de los valores de `Especifidad` y `Sensibilidad`\n",
    "* La eficacia del modelo se mide con una curva ROC.\n",
    "    * La diagonal $y=x$ es el punto de partida\n",
    "    * Si la curva está por debajo de la diagonal, desechamos el modelo\n",
    "    * Si la curva está por encima, el modelo es mejor que una clsificación aleatoria, y cuanto más arriba esté la curva (cuanta más área encierre por debajo), mejor será el modelo para predecir valroes"
   ]
  },
  {
   "cell_type": "code",
   "execution_count": null,
   "metadata": {},
   "outputs": [],
   "source": []
  }
 ],
 "metadata": {
  "kernelspec": {
   "display_name": "Python 3",
   "language": "python",
   "name": "python3"
  },
  "language_info": {
   "codemirror_mode": {
    "name": "ipython",
    "version": 3
   },
   "file_extension": ".py",
   "mimetype": "text/x-python",
   "name": "python",
   "nbconvert_exporter": "python",
   "pygments_lexer": "ipython3",
   "version": "3.7.3"
  }
 },
 "nbformat": 4,
 "nbformat_minor": 2
}
