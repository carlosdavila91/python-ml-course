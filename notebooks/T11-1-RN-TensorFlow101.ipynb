{
 "cells": [
  {
   "cell_type": "markdown",
   "metadata": {},
   "source": [
    "# Introducción a Tensor Flow\n",
    "\n",
    "**TensorFlow** es el framework de python creado por Google para diseñar, construir, y entrenar modelos de **Deep Learning**. \n",
    "\n",
    "Las Redes Neuronales se representan en forma de Diagrama de Flujos de Neuronas interconectadas entre sí. En estos, cada nodo representa una operación matemática, mientras que las ramas representan los datos fluyendo de un nodo a otro.\n",
    "\n",
    "Los datos en este tipo de framework vienen dados en arrays multidimensionales, también conocidos como **tensores**. Estos tensores fluyen a lo largo de todo el modelo, y es lo que se representa con las aristas en los gráficos de nodos.\n",
    "\n",
    "En primer lugar realizaremos operaciones básicas con el paquete de trabajo de TensorFlow, utilizando el [data set de señales de tráfico de Bélgica que se puede encontrar en abierto en este enlace](https://btsd.ethz.ch/shareddata/).\n",
    "\n",
    "Las operaciones básicas que realizaremos serán la manipulación de los datos, fabricar una red neuronal profunda y la entrenaremos con las señales de tráfico y que la red sea capaz de decidir qué tipo de señales le aportaremos con el conjunto de datos de validación una vez haya sido entrenada.\n",
    "\n",
    "**_IMPORTANTE: EL CÓDIGO EN EL CURSO ESTÁ ESCRITO EN LA VERSIÓN 1.X DE TENSORFLOW. CON LA ACTUALIZACIÓN A TF 2.X LA FORMA DE OPERAR CON REDES NEURONALES A TRVÉS DEL PAQUETE CAMBIAN SENSIBLEMENTE. [VER EL SIGUIENTE ENLACE PARA HACER LA ADAPTACIÓN DEL CÓDIGO DE LA VERSIÓN 1.X A LA 2.X](https://www.tensorflow.org/guide/migrate)_**"
   ]
  },
  {
   "cell_type": "code",
   "execution_count": 1,
   "metadata": {},
   "outputs": [
    {
     "name": "stderr",
     "output_type": "stream",
     "text": [
      "WARNING: Logging before flag parsing goes to stderr.\n",
      "W0930 16:15:12.937423 4706846144 deprecation.py:323] From /Users/carlosdavila/anaconda3/lib/python3.7/site-packages/tensorflow/python/compat/v2_compat.py:63: disable_resource_variables (from tensorflow.python.ops.variable_scope) is deprecated and will be removed in a future version.\n",
      "Instructions for updating:\n",
      "non-resource variables are not supported in the long term\n"
     ]
    }
   ],
   "source": [
    "import tensorflow.compat.v1 as tf\n",
    "tf.disable_v2_behavior()"
   ]
  },
  {
   "cell_type": "markdown",
   "metadata": {},
   "source": [
    "Como decimos, los datos que manipularemos tendrán forma de tensores o arrays. Por tanto, a la hora de trabajar con dos números, no trabajaremos con dos números directamente, sino que crearemos tensores o arrays que los contengan y a ellos le podremos aplicar cualquier operación que se nos ocurra. La declaración de este tipo de variables se realiza con la función `constant` de la mencionada librería."
   ]
  },
  {
   "cell_type": "code",
   "execution_count": 2,
   "metadata": {},
   "outputs": [],
   "source": [
    "x1 = tf.constant([1,2,3,4,5])\n",
    "x2 = tf.constant([6,7,8,9,10])"
   ]
  },
  {
   "cell_type": "code",
   "execution_count": 3,
   "metadata": {},
   "outputs": [
    {
     "name": "stdout",
     "output_type": "stream",
     "text": [
      "Tensor(\"Mul:0\", shape=(5,), dtype=int32) <class 'tensorflow.python.framework.ops.Tensor'>\n"
     ]
    }
   ],
   "source": [
    "res = tf.multiply(x1,x2)\n",
    "print(res, type(res))"
   ]
  },
  {
   "cell_type": "markdown",
   "metadata": {},
   "source": [
    "En versiones anteriores de `TF`, la forma de ver el resultado obtenido a partir de la operación entre tensores era abriendo una sesión interactiva de `TF` como acontinuación. Sin embargo, este método ya no está disponible en la librería."
   ]
  },
  {
   "cell_type": "code",
   "execution_count": 4,
   "metadata": {},
   "outputs": [
    {
     "name": "stdout",
     "output_type": "stream",
     "text": [
      "[ 6 14 24 36 50]\n"
     ]
    }
   ],
   "source": [
    "sess = tf.Session()\n",
    "print(sess.run(res))\n",
    "sess.close()"
   ]
  },
  {
   "cell_type": "markdown",
   "metadata": {},
   "source": [
    "Para poder realizar operaciones tanto con la CPU como con la GPU de nuestro ordenador (y evitar así que nos consuma todos los recursos disponibles), tendremos que establecer una configuración especial de `TF`. Esta, en la versión `2.X` de TensorFlow ha desaparecido. Sin embargo, podemos hacer uso de ella gracias a la incorporación de compatibilidad con la versión `1.X`.\n",
    "\n",
    "Con ello realizaremos un registro de los resultados obtenidos de cada una de las operaciones que se lleve a cabo."
   ]
  },
  {
   "cell_type": "code",
   "execution_count": 5,
   "metadata": {},
   "outputs": [],
   "source": [
    "config = tf.ConfigProto(log_device_placement=True)"
   ]
  },
  {
   "cell_type": "markdown",
   "metadata": {},
   "source": [
    "También podríamos usar un parámetro de sesión para utilizar restricciones más débiles sobre el posicionamiento del dispositivo."
   ]
  },
  {
   "cell_type": "code",
   "execution_count": 6,
   "metadata": {},
   "outputs": [],
   "source": [
    "config = tf.ConfigProto(allow_soft_placement=True)"
   ]
  },
  {
   "cell_type": "markdown",
   "metadata": {},
   "source": [
    "Cualquiera de estas dos configuraciones va a permitir trabajar correctamente con datos de imagen, que son mucho más pesados que otros datos."
   ]
  }
 ],
 "metadata": {
  "kernelspec": {
   "display_name": "Python 3",
   "language": "python",
   "name": "python3"
  },
  "language_info": {
   "codemirror_mode": {
    "name": "ipython",
    "version": 3
   },
   "file_extension": ".py",
   "mimetype": "text/x-python",
   "name": "python",
   "nbconvert_exporter": "python",
   "pygments_lexer": "ipython3",
   "version": "3.7.3"
  }
 },
 "nbformat": 4,
 "nbformat_minor": 2
}
