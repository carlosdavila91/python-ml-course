{
 "cells": [
  {
   "cell_type": "markdown",
   "metadata": {},
   "source": [
    "# Puntos clave del tema\n",
    "\n",
    "* Regresión lineal simple vs múltiple\n",
    "* Estimación de parámetros con la técnica de los mínimos cuadrados (optimización de $\\alpha$ y $\\beta$)\n",
    "* Podemos usar `statsmodel.smf` o `sklearn` para la regresión lineal\n",
    "* A mayor $R^2$, mejor suele ser el modelo\n",
    "* Estadísticos para la validación: `p-valor`, `F-estadístico`, `RSE`\n",
    "* Multicolinealidad entre variables predictoras\n",
    "* Contra el `overfitting`: Entrenamiento y testing\n",
    "* Selección de variables a mano vs automático (con `sklearn`)\n",
    "* Variables categóricas: conversión a dummies\n",
    "* Transformación de variables para convertirlas en función lineal"
   ]
  },
  {
   "cell_type": "code",
   "execution_count": null,
   "metadata": {},
   "outputs": [],
   "source": []
  }
 ],
 "metadata": {
  "kernelspec": {
   "display_name": "Python 3",
   "language": "python",
   "name": "python3"
  },
  "language_info": {
   "codemirror_mode": {
    "name": "ipython",
    "version": 3
   },
   "file_extension": ".py",
   "mimetype": "text/x-python",
   "name": "python",
   "nbconvert_exporter": "python",
   "pygments_lexer": "ipython3",
   "version": "3.7.3"
  }
 },
 "nbformat": 4,
 "nbformat_minor": 2
}
