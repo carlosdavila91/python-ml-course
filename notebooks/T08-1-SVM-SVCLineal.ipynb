{
 "cells": [
  {
   "cell_type": "markdown",
   "metadata": {},
   "source": [
    "# Linear Support Vector Classifier\n",
    "\n",
    "Este es el caso más sencillo de un algoritmo SVM.\n",
    "\n",
    "Lo que hará el algoritmo es intentar encajar los datos que le proporcionamos, devolviéndonos el mejor hiperplano separador para los datos. \n",
    "\n",
    "Una vez obtenido este, es posible que necesitemos añadir rasgos o elementos al clasificador para establecer que tipo de clase predecida nos ha llevado a cabo."
   ]
  },
  {
   "cell_type": "code",
   "execution_count": 2,
   "metadata": {},
   "outputs": [],
   "source": [
    "import numpy as np\n",
    "import matplotlib.pyplot as plt\n",
    "from matplotlib import style\n",
    "style.use(\"ggplot\")\n",
    "from sklearn import svm"
   ]
  },
  {
   "cell_type": "markdown",
   "metadata": {},
   "source": [
    "La librería `matplotlib` no es necesaria para llevar a cabo el SVC. La añadiremos como herramienta para visualizar los datos, que en un caso de SVM se vuelve crucial. En este caso se puede porque tendremos pocas dimensiones (variables), pero en los casos en los que las dimensiones sean más de 3, no será posible.\n",
    "\n",
    "En primer lugar, determinamos los vectores que pasaremos al modelo."
   ]
  },
  {
   "cell_type": "code",
   "execution_count": 6,
   "metadata": {},
   "outputs": [],
   "source": [
    "X = [1,5,1.5,8,1,9]\n",
    "Y = [2,8,1.8,8,0.6,11]"
   ]
  },
  {
   "cell_type": "markdown",
   "metadata": {},
   "source": [
    "Veremos en la representación una forma intuitiva de seprar los datos linealmente."
   ]
  },
  {
   "cell_type": "code",
   "execution_count": 5,
   "metadata": {},
   "outputs": [
    {
     "data": {
      "image/png": "[encoded data removed]",
      "text/plain": [
       "<Figure size 432x288 with 1 Axes>"
      ]
     },
     "metadata": {},
     "output_type": "display_data"
    }
   ],
   "source": [
    "plt.scatter(X,Y)\n",
    "plt.show()"
   ]
  },
  {
   "cell_type": "markdown",
   "metadata": {},
   "source": [
    "Esto nos sirve para comprender la potencia del Machine Learning y algoritmos como el SVM. Mientras nosotros no somos capaces de visualizar en el espacio más de 3 dimensiones, un ordenador podrá representar y operar en espacios con una gran cantidad de dimensiones.\n",
    "\n",
    "Como normalmente trabajaremos con conjuntos de datos, usaremos numpy para unir nuestros vectores."
   ]
  },
  {
   "cell_type": "code",
   "execution_count": 7,
   "metadata": {},
   "outputs": [
    {
     "data": {
      "text/plain": [
       "array([[ 1. ,  2. ],\n",
       "       [ 5. ,  8. ],\n",
       "       [ 1.5,  1.8],\n",
       "       [ 8. ,  8. ],\n",
       "       [ 1. ,  0.6],\n",
       "       [ 9. , 11. ]])"
      ]
     },
     "execution_count": 7,
     "metadata": {},
     "output_type": "execute_result"
    }
   ],
   "source": [
    "data = np.array(list(zip(X,Y)))\n",
    "data"
   ]
  },
  {
   "cell_type": "markdown",
   "metadata": {},
   "source": [
    "A continuación, necesitaremos etiquetar cada una de las entradas por razones de entrenamiento.\n",
    "\n",
    "En este tipo de problemas de Machine Learning supervisados, los datos que no estén correctamente etiquetados no se podrán usar. Necesitaremos, en este caso, que los puntos estén clasificados por grupos para tener un objetivo. Los etiquetaremos como 0 y 1."
   ]
  },
  {
   "cell_type": "code",
   "execution_count": 8,
   "metadata": {},
   "outputs": [],
   "source": [
    "target = [0, 1, 0, 1, 0, 1]"
   ]
  },
  {
   "cell_type": "markdown",
   "metadata": {},
   "source": [
    "En nuestro ejercicio queremos tener una lista de rasgos numéricos para poder calcular diversos estadísticos y poder establecer una etiqueta dependiendo de si pertenecen o no pertenecen al segmento que queremos clasificar. Para ello creamos nuestro clasificador.\n",
    "\n",
    "Recordemos que `C` es una forma de determinar como de mala queremos que sea la clasificación. En principio lo estableceremos como 1, pero habrá que irlo ajustando a medida que vayamos desarrollando el algoritmo."
   ]
  },
  {
   "cell_type": "code",
   "execution_count": 11,
   "metadata": {},
   "outputs": [
    {
     "data": {
      "text/plain": [
       "SVC(C=1.0, cache_size=200, class_weight=None, coef0=0.0,\n",
       "  decision_function_shape='ovr', degree=3, gamma='auto_deprecated',\n",
       "  kernel='linear', max_iter=-1, probability=False, random_state=None,\n",
       "  shrinking=True, tol=0.001, verbose=False)"
      ]
     },
     "execution_count": 11,
     "metadata": {},
     "output_type": "execute_result"
    }
   ],
   "source": [
    "classifier = svm.SVC(kernel='linear', C=1.0)\n",
    "classifier.fit(data, target)"
   ]
  },
  {
   "cell_type": "markdown",
   "metadata": {},
   "source": [
    "La fase de aprendizaje ya está lista. El modelo ha aprendido de nuestros datos. Ahora podemos tanto predecir como probar si un punto cualquiera dentro del espacio cae en la zona de 0 o en la zona de 1. \n",
    "\n",
    "Como ejemplo tomamos un punto que esté cerca de 0. El punto deberá estar en el formato adecuado, para ello usamos la función `reshape` (lo entramos como fila y lo cambiamos a columna)."
   ]
  },
  {
   "cell_type": "code",
   "execution_count": 13,
   "metadata": {},
   "outputs": [
    {
     "name": "stdout",
     "output_type": "stream",
     "text": [
      "[0.57 0.67]\n",
      "[[0.57 0.67]]\n"
     ]
    },
    {
     "data": {
      "text/plain": [
       "array([0])"
      ]
     },
     "execution_count": 13,
     "metadata": {},
     "output_type": "execute_result"
    }
   ],
   "source": [
    "p = np.array([0.57, 0.67])\n",
    "print(p)\n",
    "p = p.reshape(1,2)\n",
    "print(p)\n",
    "\n",
    "classifier.predict(p)"
   ]
  },
  {
   "cell_type": "markdown",
   "metadata": {},
   "source": [
    "Parece que el clasificador no ha tenido problemas a la hora de determinar que el punto caería en la categoría que hemos denominado como 0.\n",
    "\n",
    "Ahora probamos con un punto más cercano al grupo 1."
   ]
  },
  {
   "cell_type": "code",
   "execution_count": 14,
   "metadata": {},
   "outputs": [
    {
     "name": "stdout",
     "output_type": "stream",
     "text": [
      "[[10.32 12.67]]\n"
     ]
    },
    {
     "data": {
      "text/plain": [
       "array([1])"
      ]
     },
     "execution_count": 14,
     "metadata": {},
     "output_type": "execute_result"
    }
   ],
   "source": [
    "p = np.array([10.32, 12.67]).reshape(1,2)\n",
    "print(p)\n",
    "classifier.predict(p)"
   ]
  },
  {
   "cell_type": "markdown",
   "metadata": {},
   "source": [
    "### Representación del soporte vectorial en 2D\n",
    "\n",
    "Lo primero que tendremos que hacer es extraer los parámetros del modelo para poder representar el hiperplano separador que viene definido por ellos."
   ]
  },
  {
   "cell_type": "code",
   "execution_count": 15,
   "metadata": {},
   "outputs": [
    {
     "data": {
      "text/plain": [
       "array([0.1380943 , 0.24462418])"
      ]
     },
     "execution_count": 15,
     "metadata": {},
     "output_type": "execute_result"
    }
   ],
   "source": [
    "# Como es un array le indicamos [0] para quedarnos solo con el primer elemento\n",
    "w = classifier.coef_[0]\n",
    "w"
   ]
  },
  {
   "cell_type": "markdown",
   "metadata": {},
   "source": [
    "Con esto obtenemos los pesos para las dos categorías. Estos valores nos servirán para determinar la recta de la siguiente manera.\n",
    "\n",
    "El modelo lineal está definido por la ecuación $w_0 · x + w_1 · y + e = 0$, donde `e` representa al término independiente.\n",
    "\n",
    "El hiperplano en 2D viene definido por la ecuación $y = a * x + b$.\n",
    "\n",
    "Despejaremos `y` de esta ecuación para obtener los parámetros."
   ]
  },
  {
   "cell_type": "code",
   "execution_count": 17,
   "metadata": {},
   "outputs": [
    {
     "data": {
      "text/plain": [
       "-0.5645161290322581"
      ]
     },
     "execution_count": 17,
     "metadata": {},
     "output_type": "execute_result"
    }
   ],
   "source": [
    "a = -w[0]/w[1]\n",
    "a"
   ]
  },
  {
   "cell_type": "code",
   "execution_count": 18,
   "metadata": {},
   "outputs": [
    {
     "data": {
      "text/plain": [
       "6.734677437813051"
      ]
     },
     "execution_count": 18,
     "metadata": {},
     "output_type": "execute_result"
    }
   ],
   "source": [
    "b = - classifier.intercept_[0]/w[1]\n",
    "b"
   ]
  },
  {
   "cell_type": "markdown",
   "metadata": {},
   "source": [
    "Si se tratara de `n` dimensiones sería exactamente igual pero con la diferencia de que `x` sería un vector `n dimensional` al igual que `a`, y, por tanto, `a · b` sería un producto escalar.\n",
    "\n",
    "Generamos el vector de las `x` y el vector de las `y` y hacemos la representación."
   ]
  },
  {
   "cell_type": "code",
   "execution_count": 19,
   "metadata": {},
   "outputs": [],
   "source": [
    "xx = np.linspace(0,10)\n",
    "yy = a * xx + b"
   ]
  },
  {
   "cell_type": "code",
   "execution_count": 20,
   "metadata": {},
   "outputs": [
    {
     "data": {
      "image/png": "[encoded data removed]",
      "text/plain": [
       "<Figure size 432x288 with 1 Axes>"
      ]
     },
     "metadata": {},
     "output_type": "display_data"
    }
   ],
   "source": [
    "plt.plot(xx, yy, 'k-', label = 'Hiperplano de separación')\n",
    "plt.scatter(X, Y, c = target)\n",
    "plt.legend()\n",
    "plt.show()"
   ]
  },
  {
   "cell_type": "markdown",
   "metadata": {},
   "source": [
    "Es claro que en problemas con un número de dimensiones mayor a 3 este tipo de representación no será posible."
   ]
  },
  {
   "cell_type": "code",
   "execution_count": null,
   "metadata": {},
   "outputs": [],
   "source": []
  }
 ],
 "metadata": {
  "kernelspec": {
   "display_name": "Python 3",
   "language": "python",
   "name": "python3"
  },
  "language_info": {
   "codemirror_mode": {
    "name": "ipython",
    "version": 3
   },
   "file_extension": ".py",
   "mimetype": "text/x-python",
   "name": "python",
   "nbconvert_exporter": "python",
   "pygments_lexer": "ipython3",
   "version": "3.7.3"
  }
 },
 "nbformat": 4,
 "nbformat_minor": 2
}
