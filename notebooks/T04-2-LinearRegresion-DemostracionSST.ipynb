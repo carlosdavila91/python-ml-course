{
 "cells": [
  {
   "cell_type": "markdown",
   "metadata": {},
   "source": [
    "# Ejercicio demostrar que SST = SSR + SSD\n",
    "\n",
    "Vamos a demostrar formalmente la igualdad SST = SSR + SSD que hemos estado utilizando en la teoría de los vídeos anteriores.\n",
    "\n",
    "\n",
    "Utilizando la notación del ejercicio anterior, es decir:\n",
    "\n",
    "   * $y_i$ = el valor actual i-ésimo\n",
    "   * $y_m$ = media de los valores actuales\n",
    "   * $z_i$ = valor predictor i-ésimo (el que nos da la recta de regresión).\n",
    "\n",
    "Podemos escribir\n",
    "\n",
    "$y_i - y_m = (y_i - z_i) + (z_i - y_m)$\n",
    "\n",
    "Y si ahora elevamos al cuadrado, y aplicamos la identidad notable obtenemos que :\n",
    "\n",
    "$(y_i - y_m) ^2 = (y_i - z_i) ^2 + (z_i-y_m) ^2 + 2(y_i-z_i)(z_i-y_m)$\n",
    "\n",
    "De aquí, aplicando sumatorio a cada uno de los factores anteriores se deduce que para demostrar que SST = SSR + SSD, tenemos que probar que:\n",
    "\n",
    "$\\sum(y_i-z_i)(z_i-y_m) = 0$\n",
    "\n",
    "Notemos que podemos obviar el 2 porque.\n",
    "\n",
    "Para ello expresamos $(y_i-z_i)(z_i-y_m)$ de la siguiente forma:\n",
    "\n",
    "$(y_i-z_i)(z_i-y_m) =(y_i-z_i)z_i - (y_i-z_i)y_m$\n",
    "\n",
    "Ahora bien, en la demostración que  hicimos en el vídeo de la clase 74, la primera ecuación normal (en el minuto 5:26) vemos que:\n",
    "\n",
    "$\\sum(y_i-z_i)=0$\n",
    "\n",
    "Por lo tanto será suficiente ver que\n",
    "\n",
    "$\\sum(y_i-z_i)z_i = 0$\n",
    "\n",
    "Para ello, basta escribir que es z_i, no es otra cosa que:\n",
    "\n",
    "$z_i = a + bx_i$\n",
    "\n",
    "y si entonces sustituimos en la \\suma anterior y operamos, tenemos que:\n",
    "\n",
    "$\\sum(y_i-z_i)z_i = \\sum(y_i-z_i)a + b\\sum(y_i-z_i)x_i$\n",
    "\n",
    "De nuevo el primer \\sumatorio es cero por la primera ecuación. El segundo \\sumatorio también es cero por la segunda ecuación normal que aparece en el minuto 5:26 de vídeo."
   ]
  },
  {
   "cell_type": "code",
   "execution_count": null,
   "metadata": {},
   "outputs": [],
   "source": []
  }
 ],
 "metadata": {
  "kernelspec": {
   "display_name": "Python 3",
   "language": "python",
   "name": "python3"
  },
  "language_info": {
   "codemirror_mode": {
    "name": "ipython",
    "version": 3
   },
   "file_extension": ".py",
   "mimetype": "text/x-python",
   "name": "python",
   "nbconvert_exporter": "python",
   "pygments_lexer": "ipython3",
   "version": "3.7.3"
  }
 },
 "nbformat": 4,
 "nbformat_minor": 2
}
